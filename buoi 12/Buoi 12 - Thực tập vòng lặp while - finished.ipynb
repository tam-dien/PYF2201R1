{
 "cells": [
  {
   "cell_type": "markdown",
   "id": "1f7be993",
   "metadata": {},
   "source": [
    "# Thực tập vòng lặp While\n",
    "\n",
    "### Bài 1\n",
    "\n",
    "Nhập vào số a, sử dụng lệnh while (không sử dụng break và for) để xác định xem số đó có phải là số nguyên tố hay không"
   ]
  },
  {
   "cell_type": "code",
   "execution_count": 4,
   "id": "8cb73965",
   "metadata": {},
   "outputs": [
    {
     "name": "stdout",
     "output_type": "stream",
     "text": [
      "Nhập a:7\n",
      "7 là số nguyên tố\n"
     ]
    }
   ],
   "source": [
    "a = int(input(\"Nhập a:\"))\n",
    "\n",
    "while (a <= 0):\n",
    "    a = int(input(\"Nhập a:\"))\n",
    "    \n",
    "uoc = 1\n",
    "dem = 0\n",
    "while uoc <= a:\n",
    "    if a % uoc == 0:\n",
    "        dem += 1\n",
    "    uoc += 1\n",
    "\n",
    "if dem == 2:\n",
    "    print(a,\"là số nguyên tố\")\n",
    "else:\n",
    "    print(a,\"không là số nguyên tố\")"
   ]
  },
  {
   "cell_type": "markdown",
   "id": "9f2357ca",
   "metadata": {},
   "source": [
    "### Bài 2\n",
    "\n",
    "Hãy sử dụng lệnh while lập trình cho bài đoán số ở buổi thứ 9"
   ]
  },
  {
   "cell_type": "code",
   "execution_count": 1,
   "id": "db79cb9d",
   "metadata": {},
   "outputs": [
    {
     "name": "stdout",
     "output_type": "stream",
     "text": [
      "Đây là lần đoán thứ: 1, số mình đoán là 50:lớn hơn\n",
      "Đây là lần đoán thứ: 2, số mình đoán là 75:bằng\n"
     ]
    }
   ],
   "source": [
    "nt = 100\n",
    "nd = 0\n",
    "sodoan = (nt + nd)//2\n",
    "a = 0\n",
    "solandoan = 1\n",
    "\n",
    "while a != \"bằng\":\n",
    "    a = input(\"Đây là lần đoán thứ: \" + str(solandoan) + \", số mình đoán là \" + str(sodoan) + \":\")\n",
    "    if a == \"lớn hơn\":\n",
    "        nd = sodoan + 1\n",
    "    elif a == \"nhỏ hơn\":\n",
    "        nt = sodoan - 1\n",
    "    sodoan = (nt + nd)//2\n",
    "    solandoan += 1"
   ]
  },
  {
   "cell_type": "markdown",
   "id": "58f5b789",
   "metadata": {},
   "source": [
    "### Bài 3\n",
    "\n",
    "Nhập vào số a, hãy đếm a có bao nhiêu chữ số chẵn, bao nhiêu chữ số lẻ\n",
    "\n",
    "#### Cách 1 (dùng chuỗi):"
   ]
  },
  {
   "cell_type": "code",
   "execution_count": 4,
   "id": "e7f9da21",
   "metadata": {},
   "outputs": [
    {
     "name": "stdout",
     "output_type": "stream",
     "text": [
      "Nhập a:4544\n",
      "3 1\n"
     ]
    }
   ],
   "source": [
    "a = int(input(\"Nhập a:\"))\n",
    "\n",
    "a = str(a)\n",
    "\n",
    "i = 0\n",
    "demchan = 0\n",
    "demle = 0\n",
    "while i < len(a):\n",
    "    if int(a[i]) % 2 == 0:\n",
    "        demchan += 1\n",
    "    else:\n",
    "        demle += 1\n",
    "    i += 1\n",
    "    \n",
    "print(demchan,demle)"
   ]
  },
  {
   "cell_type": "markdown",
   "id": "9a3d9703",
   "metadata": {},
   "source": [
    "#### Cách 2 (không dùng chuỗi):"
   ]
  },
  {
   "cell_type": "code",
   "execution_count": 7,
   "id": "d4e474c8",
   "metadata": {},
   "outputs": [
    {
     "name": "stdout",
     "output_type": "stream",
     "text": [
      "Nhập a:78751\n",
      "1 4\n"
     ]
    }
   ],
   "source": [
    "a = int(input(\"Nhập a:\"))\n",
    "\n",
    "demchan = 0\n",
    "demle = 0\n",
    "\n",
    "while a != 0:\n",
    "    b = a % 10\n",
    "    a = a//10\n",
    "    if b % 2 == 0:\n",
    "        demchan += 1\n",
    "    else:\n",
    "        demle += 1\n",
    "        \n",
    "print(demchan,demle)"
   ]
  },
  {
   "cell_type": "markdown",
   "id": "69539ece",
   "metadata": {},
   "source": [
    "### Bài 4\n",
    "\n",
    "Nhập vào số a, hãy tính tổng các chữ số nguyên tố của a"
   ]
  },
  {
   "cell_type": "code",
   "execution_count": 8,
   "id": "f001bd9a",
   "metadata": {},
   "outputs": [
    {
     "name": "stdout",
     "output_type": "stream",
     "text": [
      "Nhập a:4578\n",
      "12\n"
     ]
    }
   ],
   "source": [
    "a = int(input(\"Nhập a:\"))\n",
    "\n",
    "tong = 0\n",
    "while a != 0:\n",
    "    b = a % 10\n",
    "    a = a//10\n",
    "    if b == 2 or b == 3 or b == 5 or b == 7:\n",
    "        tong += b\n",
    "\n",
    "print(tong)"
   ]
  },
  {
   "cell_type": "markdown",
   "id": "0a5075a4",
   "metadata": {},
   "source": [
    "### Bài 5\n",
    "\n",
    "Số armstrong là số có tổng của các chữ số mũ số lượng chữ số bằng chính nó\n",
    "\n",
    "Ví dụ\n",
    "\n",
    "Số 371 là một số armstrong vì:\n",
    "\n",
    "371 = 3^3 + 7^3 + 1^3 (3 là số lượng chữ số của 371)\n",
    "\n",
    "Số 1634 là một số armstrong vì:\n",
    "\n",
    "1634 = 1^4 + 6^4 + 3^4 + 4^4 (4 là số lượng chữ số của 1634)\n",
    "\n",
    "Nhập vào số a, kiểm tra xem a có phải là số armstrong không"
   ]
  },
  {
   "cell_type": "code",
   "execution_count": 24,
   "id": "b9ed54a5",
   "metadata": {},
   "outputs": [
    {
     "name": "stdout",
     "output_type": "stream",
     "text": [
      "Nhập a:373\n",
      "Số lượng chữ số: 3\n",
      "a = 373\n",
      "373 không là số Armstrong\n"
     ]
    }
   ],
   "source": [
    "a = int(input(\"Nhập a:\"))\n",
    "a0 = a\n",
    "    \n",
    "dem = 0\n",
    "while a != 0:\n",
    "    a //= 10\n",
    "    dem += 1\n",
    "    \n",
    "a = a0\n",
    "    \n",
    "print(\"Số lượng chữ số:\",dem)\n",
    "print(\"a =\",a)\n",
    "\n",
    "tong = 0\n",
    "while a != 0:\n",
    "    b = a % 10\n",
    "    a = a//10\n",
    "    tong += b**dem\n",
    "    \n",
    "a = a0\n",
    "    \n",
    "if tong == a:\n",
    "    print(a,\"là số Armstrong\")\n",
    "else:\n",
    "    print(a,\"không là số Armstrong\")\n",
    "    "
   ]
  },
  {
   "cell_type": "markdown",
   "id": "f8a584d3",
   "metadata": {},
   "source": [
    "### Bài 6\n",
    "\n",
    "Dãy số fibonacci là dãy số được định nghĩa như sau: 1, 1, 2, 3, 5, 8, 13,... với số kế tiếp sẽ bằng tổng hai số trước đó\n",
    "\n",
    "Nhập vào A, hãy tìm số trong dãy số fibonacci lớn nhất nhưng không vượt quá A"
   ]
  },
  {
   "cell_type": "code",
   "execution_count": 26,
   "id": "3ad4d85b",
   "metadata": {},
   "outputs": [
    {
     "name": "stdout",
     "output_type": "stream",
     "text": [
      "Nhập vào A:12\n",
      "8\n"
     ]
    }
   ],
   "source": [
    "A = int(input(\"Nhập vào A:\"))\n",
    "a = 1\n",
    "b = 1\n",
    "c = a + b\n",
    "while c <= A:\n",
    "    a = b\n",
    "    b = c\n",
    "    c = a + b\n",
    "    \n",
    "print(b)"
   ]
  },
  {
   "cell_type": "markdown",
   "id": "9fa794f2",
   "metadata": {},
   "source": [
    "### Bài 7\n",
    "\n",
    "Nhập vào A, tìm n nhỏ nhất sao cho\n",
    "\n",
    "1 + 1/2 + 1/3 + 1/4 + ... + 1/n > A"
   ]
  },
  {
   "cell_type": "code",
   "execution_count": 34,
   "id": "246ec002",
   "metadata": {},
   "outputs": [
    {
     "name": "stdout",
     "output_type": "stream",
     "text": [
      "Nhập vào A:17\n",
      "S =  17.000000014847732\n",
      "i =  13562027\n"
     ]
    }
   ],
   "source": [
    "A = float(input(\"Nhập vào A:\"))\n",
    "i = 1\n",
    "S = 0\n",
    "while S <= A:\n",
    "    S += (1/i)\n",
    "    i += 1\n",
    "print(\"S = \",S)\n",
    "print(\"i = \",i-1)"
   ]
  },
  {
   "cell_type": "markdown",
   "id": "c5fd4d8a",
   "metadata": {},
   "source": [
    "### Bài 8\n",
    "\n",
    "Nhập vào a và b là số nguyên dương (b có một chữ số, nhập sai yêu cầu nhập lại), hãy tìm vị trí đầu tiên (bắt đầu từ bên trái) của b trong a, nếu không tìm thấy thì in kết quả là 0 (ví trí đầu bắt đầu từ 1)\n",
    "\n",
    "<b>Ví dụ:</b>\n",
    "\n",
    "<b>Nhập:</b>\n",
    "- a = 125785\n",
    "- b = 5\n",
    "\n",
    "<b>Kết quả:</b> 3 (do số 5 nằm ở vị trí 3)"
   ]
  },
  {
   "cell_type": "code",
   "execution_count": 37,
   "id": "9edf35ac",
   "metadata": {},
   "outputs": [
    {
     "name": "stdout",
     "output_type": "stream",
     "text": [
      "Nhập a:7485\n",
      "Nhập b:4\n",
      "2\n"
     ]
    }
   ],
   "source": [
    "a = int(input(\"Nhập a:\"))\n",
    "\n",
    "while (a <= 0):\n",
    "    a = int(input(\"Nhập a:\"))\n",
    "    \n",
    "b = int(input(\"Nhập b:\"))\n",
    "\n",
    "while (b <= 0 or b >= 10):\n",
    "    b = int(input(\"Nhập b:\"))\n",
    "    \n",
    "a = str(a)\n",
    "b = str(b)\n",
    "\n",
    "x = a.find(b) + 1\n",
    "print(x)"
   ]
  },
  {
   "cell_type": "code",
   "execution_count": 38,
   "id": "2b162a74",
   "metadata": {},
   "outputs": [
    {
     "name": "stdout",
     "output_type": "stream",
     "text": [
      "Nhập a:7715\n",
      "Nhập b:7\n",
      "1\n"
     ]
    }
   ],
   "source": [
    "a = int(input(\"Nhập a:\"))\n",
    "\n",
    "while (a <= 0):\n",
    "    a = int(input(\"Nhập a:\"))\n",
    "    \n",
    "b = int(input(\"Nhập b:\"))\n",
    "\n",
    "while (b <= 0 or b >= 10):\n",
    "    b = int(input(\"Nhập b:\"))\n",
    "    \n",
    "a0 = a\n",
    "    \n",
    "dem = 0\n",
    "while a != 0:\n",
    "    a //= 10\n",
    "    dem += 1\n",
    "    \n",
    "a = a0\n",
    "ketqua = 0\n",
    "while a != 0:\n",
    "    c = a % 10\n",
    "    a = a//10\n",
    "    if c == b:\n",
    "        ketqua = dem\n",
    "    dem -= 1\n",
    "    \n",
    "print(ketqua)"
   ]
  }
 ],
 "metadata": {
  "kernelspec": {
   "display_name": "Python 3 (ipykernel)",
   "language": "python",
   "name": "python3"
  },
  "language_info": {
   "codemirror_mode": {
    "name": "ipython",
    "version": 3
   },
   "file_extension": ".py",
   "mimetype": "text/x-python",
   "name": "python",
   "nbconvert_exporter": "python",
   "pygments_lexer": "ipython3",
   "version": "3.10.1"
  }
 },
 "nbformat": 4,
 "nbformat_minor": 5
}
