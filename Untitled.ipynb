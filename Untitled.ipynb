{
 "cells": [
  {
   "cell_type": "code",
   "execution_count": 1,
   "id": "005bfd8b",
   "metadata": {},
   "outputs": [
    {
     "name": "stdout",
     "output_type": "stream",
     "text": [
      "Nhập từ thứ nhất:Chúc\n",
      "Nhập từ thứ hai:mừng\n",
      "Nhập từ thứ ba:năm\n",
      "Nhập từ thứ tư:mới\n",
      "Chúc mừng năm mới\n"
     ]
    }
   ],
   "source": [
    "tu1 = input(\"Nhập từ thứ nhất:\")\n",
    "tu2 = input(\"Nhập từ thứ hai:\")\n",
    "tu3 = input(\"Nhập từ thứ ba:\")\n",
    "tu4 = input(\"Nhập từ thứ tư:\")\n",
    "print(tu1,tu2,tu3,tu4)"
   ]
  }
 ],
 "metadata": {
  "kernelspec": {
   "display_name": "Python 3 (ipykernel)",
   "language": "python",
   "name": "python3"
  },
  "language_info": {
   "codemirror_mode": {
    "name": "ipython",
    "version": 3
   },
   "file_extension": ".py",
   "mimetype": "text/x-python",
   "name": "python",
   "nbconvert_exporter": "python",
   "pygments_lexer": "ipython3",
   "version": "3.10.1"
  }
 },
 "nbformat": 4,
 "nbformat_minor": 5
}
