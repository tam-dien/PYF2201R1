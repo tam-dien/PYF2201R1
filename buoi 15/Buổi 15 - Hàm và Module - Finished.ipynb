{
 "cells": [
  {
   "cell_type": "markdown",
   "id": "73456e5e",
   "metadata": {},
   "source": [
    "# Hàm\n",
    "\n",
    "### Hàm\n",
    "\n",
    "Cú pháp:\n",
    "\n",
    "`def <tên hàm>(<tham số)>:\n",
    "    //Nội dung hàm`\n",
    "\n",
    "Gọi hàm:\n",
    "`<tên hàm>(<giá trị đầu vào>)`\n",
    "\n",
    "Ví dụ:\n",
    "\n",
    "Hãy viết 1 hàm số để tính tổng 2 số đầu vào và in nó ra màn hình"
   ]
  },
  {
   "cell_type": "code",
   "execution_count": 28,
   "id": "af5b9f6d",
   "metadata": {
    "scrolled": false
   },
   "outputs": [
    {
     "name": "stdout",
     "output_type": "stream",
     "text": [
      "5\n",
      "abccd\n"
     ]
    }
   ],
   "source": [
    "def tong(a,b):\n",
    "    t = a + b\n",
    "    print(t)\n",
    "    \n",
    "def hieu(a,b):\n",
    "    h = a - b\n",
    "    print(h)\n",
    "    \n",
    "def demo():\n",
    "    for i in range(5):\n",
    "        print(i)\n",
    "\n",
    "hieu(10,5)\n",
    "tong(\"abc\",\"cd\")"
   ]
  },
  {
   "cell_type": "code",
   "execution_count": 21,
   "id": "4353273e",
   "metadata": {
    "scrolled": false
   },
   "outputs": [
    {
     "name": "stdout",
     "output_type": "stream",
     "text": [
      "Đây là c được in ở trong hàm thay đổi 5\n",
      "Đây là c được in ở trong chương trình chính 7\n"
     ]
    }
   ],
   "source": [
    "a = 5\n",
    "b = 6\n",
    "c = 7\n",
    "\n",
    "def thaydoi(a,b):\n",
    "    a = 10\n",
    "    # print(\"Đây là a ở trong hàm thay đổi:\",a)\n",
    "    print(\"Đây là c được in ở trong hàm thay đổi\",c)\n",
    "    c = 5 # Khi khai báo c ở bất kỳ đâu trong hàm, thì c sẽ được hiểu là biến local của hàm đó\n",
    "    \n",
    "thaydoi(7,4)\n",
    "# print(\"Đây là a ở trong chương trình chính\",a)\n",
    "print(\"Đây là c được in ở trong chương trình chính\",c)"
   ]
  },
  {
   "cell_type": "code",
   "execution_count": 24,
   "id": "6f06f7d6",
   "metadata": {
    "scrolled": false
   },
   "outputs": [
    {
     "name": "stdout",
     "output_type": "stream",
     "text": [
      "Đây là c được in ở trong hàm thay đổi 7\n",
      "Đây là c được in ở trong chương trình chính 5\n",
      "Đây là d được in ở trong chương trình chính 32\n"
     ]
    }
   ],
   "source": [
    "a = 5\n",
    "b = 6\n",
    "c = 7\n",
    "d = 20\n",
    "\n",
    "def thaydoi(a,b):\n",
    "    global c,d\n",
    "    # print(\"Đây là a ở trong hàm thay đổi:\",a)\n",
    "    print(\"Đây là c được in ở trong hàm thay đổi\",c)\n",
    "    d += 12\n",
    "    c = 5 # Khi khai báo c ở bất kỳ đâu trong hàm, thì c sẽ được hiểu là biến local của hàm đó\n",
    "    \n",
    "thaydoi(7,4)\n",
    "# print(\"Đây là a ở trong chương trình chính\",a)\n",
    "print(\"Đây là c được in ở trong chương trình chính\",c)\n",
    "print(\"Đây là d được in ở trong chương trình chính\",d)"
   ]
  },
  {
   "cell_type": "code",
   "execution_count": 6,
   "id": "8770db2c",
   "metadata": {
    "scrolled": true
   },
   "outputs": [
    {
     "name": "stdout",
     "output_type": "stream",
     "text": [
      "x\n"
     ]
    }
   ],
   "source": [
    "## Viết một hàm in ra ký tự đầu tiên của chuỗi\n",
    "\n",
    "chuoi = \"xin chào mọi người!\"\n",
    "\n",
    "def inra(c):\n",
    "    print(c[0]) ## Đang đối xử với biến c như kiểu chuỗi\n",
    "    \n",
    "inra(\"xin chào\")"
   ]
  },
  {
   "cell_type": "code",
   "execution_count": 5,
   "id": "f15dde8f",
   "metadata": {
    "scrolled": false
   },
   "outputs": [
    {
     "ename": "TypeError",
     "evalue": "'int' object is not subscriptable",
     "output_type": "error",
     "traceback": [
      "\u001b[1;31m---------------------------------------------------------------------------\u001b[0m",
      "\u001b[1;31mTypeError\u001b[0m                                 Traceback (most recent call last)",
      "\u001b[1;32m~\\AppData\\Local\\Temp/ipykernel_18556/407884128.py\u001b[0m in \u001b[0;36m<module>\u001b[1;34m\u001b[0m\n\u001b[0;32m      2\u001b[0m \u001b[0mb\u001b[0m \u001b[1;33m=\u001b[0m \u001b[1;36m5\u001b[0m\u001b[1;33m\u001b[0m\u001b[1;33m\u001b[0m\u001b[0m\n\u001b[0;32m      3\u001b[0m \u001b[1;33m\u001b[0m\u001b[0m\n\u001b[1;32m----> 4\u001b[1;33m \u001b[0mprint\u001b[0m\u001b[1;33m(\u001b[0m\u001b[0mb\u001b[0m\u001b[1;33m[\u001b[0m\u001b[1;36m1\u001b[0m\u001b[1;33m]\u001b[0m\u001b[1;33m)\u001b[0m\u001b[1;33m\u001b[0m\u001b[1;33m\u001b[0m\u001b[0m\n\u001b[0m",
      "\u001b[1;31mTypeError\u001b[0m: 'int' object is not subscriptable"
     ]
    }
   ],
   "source": [
    "a = \"xin chào\"\n",
    "b = 5\n",
    "\n",
    "print(b[1])"
   ]
  },
  {
   "cell_type": "code",
   "execution_count": null,
   "id": "aa529af0",
   "metadata": {
    "scrolled": false
   },
   "outputs": [],
   "source": [
    "def tong(a,b):\n",
    "    t  = a+b\n",
    "    print(t)\n",
    "\n",
    "def demo():\n",
    "    for i in range(5):\n",
    "        print(i)\n",
    "        \n",
    "print(3,5)"
   ]
  },
  {
   "cell_type": "markdown",
   "id": "a7c39f47",
   "metadata": {},
   "source": [
    "### Giá trị trả về của hàm\n",
    "\n",
    "# return\n",
    "\n",
    "Cú pháp:\n",
    "\n",
    "`return <giá trị trả về>`\n",
    "\n",
    "##### Lưu ý: Sau khi thực hiện lệnh return, chương trình sẽ thoát khỏi hàm ngay lập tức (những lệnh sau đó không được thực hiện)\n",
    "\n",
    "Ví dụ:\n",
    "\n",
    "Hãy viết 1 hàm trả về giá trị trung bình của 2 số bất kỳ"
   ]
  },
  {
   "cell_type": "code",
   "execution_count": 7,
   "id": "0b527b95",
   "metadata": {
    "scrolled": true
   },
   "outputs": [
    {
     "name": "stdout",
     "output_type": "stream",
     "text": [
      "ABC\n",
      "5\n"
     ]
    }
   ],
   "source": [
    "print(\"ABC\") ## Đây là hàm không có giá trị trả về\n",
    "b = -5\n",
    "a = abs(b) ## Đây là hàm có giá trị trả về và giá trị trả về của nó là giá trị tuyệt đối của b\n",
    "print(a)"
   ]
  },
  {
   "cell_type": "code",
   "execution_count": 12,
   "id": "f00eddcb",
   "metadata": {
    "scrolled": false
   },
   "outputs": [
    {
     "name": "stdout",
     "output_type": "stream",
     "text": [
      "12\n"
     ]
    }
   ],
   "source": [
    "def tong(a,b):\n",
    "    t = a + b\n",
    "    return t\n",
    "\n",
    "c = tong(5,7)\n",
    "print(c)"
   ]
  },
  {
   "cell_type": "code",
   "execution_count": 13,
   "id": "6543d5c0",
   "metadata": {
    "scrolled": false
   },
   "outputs": [
    {
     "name": "stdout",
     "output_type": "stream",
     "text": [
      "7\n"
     ]
    }
   ],
   "source": [
    "def hieu(a,b):\n",
    "    h = a - b\n",
    "    return h\n",
    "    print(\"hello\")\n",
    "    \n",
    "c = hieu(12,5)\n",
    "print(c)"
   ]
  },
  {
   "cell_type": "code",
   "execution_count": 15,
   "id": "7bcb5c97",
   "metadata": {
    "scrolled": true
   },
   "outputs": [
    {
     "name": "stdout",
     "output_type": "stream",
     "text": [
      "1\n",
      "2\n",
      "3\n",
      "4\n",
      "5\n",
      "6\n",
      "7\n",
      "8\n",
      "9\n",
      "10\n",
      "11\n",
      "12\n",
      "13\n",
      "14\n",
      "15\n",
      "16\n",
      "17\n",
      "18\n",
      "19\n",
      "20\n",
      "21\n",
      "22\n",
      "23\n",
      "24\n",
      "25\n",
      "26\n",
      "27\n",
      "28\n",
      "29\n",
      "30\n",
      "31\n",
      "32\n",
      "33\n",
      "34\n",
      "35\n",
      "36\n",
      "37\n",
      "38\n",
      "39\n",
      "40\n",
      "41\n",
      "42\n",
      "43\n",
      "44\n",
      "45\n",
      "46\n",
      "47\n",
      "48\n",
      "49\n",
      "50\n",
      "51\n",
      "52\n",
      "53\n",
      "54\n",
      "55\n",
      "56\n",
      "57\n",
      "58\n",
      "59\n",
      "60\n",
      "61\n",
      "62\n",
      "63\n",
      "64\n",
      "65\n",
      "66\n",
      "67\n",
      "68\n",
      "69\n",
      "70\n",
      "71\n",
      "72\n",
      "73\n",
      "74\n",
      "75\n",
      "76\n",
      "77\n",
      "78\n",
      "79\n",
      "80\n",
      "81\n",
      "82\n",
      "83\n",
      "84\n",
      "85\n",
      "86\n",
      "87\n",
      "88\n",
      "89\n",
      "90\n",
      "91\n",
      "92\n",
      "93\n",
      "94\n",
      "95\n",
      "96\n",
      "97\n",
      "98\n",
      "99\n",
      "100\n",
      "None\n"
     ]
    }
   ],
   "source": [
    "def insole():\n",
    "    i = 1\n",
    "    while True:\n",
    "        print(i)\n",
    "        i += 1\n",
    "        if i > 100:\n",
    "            return\n",
    "\n",
    "a = insole()\n",
    "print(a)"
   ]
  },
  {
   "cell_type": "code",
   "execution_count": 18,
   "id": "198d018c",
   "metadata": {
    "scrolled": true
   },
   "outputs": [
    {
     "name": "stdout",
     "output_type": "stream",
     "text": [
      "15\n"
     ]
    }
   ],
   "source": [
    "def trituyetdoi(a): ## Không dùng hàm abs\n",
    "    if a < 0:\n",
    "        a = -a\n",
    "    return a\n",
    "\n",
    "so1 = -15\n",
    "so2 = trituyetdoi(so1)\n",
    "print(so2)"
   ]
  },
  {
   "cell_type": "markdown",
   "id": "1d7f8db0",
   "metadata": {},
   "source": [
    "### Bài tập"
   ]
  },
  {
   "cell_type": "markdown",
   "id": "75fb488b",
   "metadata": {},
   "source": [
    "Viết hàm kiểm tra số nguyên tố"
   ]
  },
  {
   "cell_type": "code",
   "execution_count": 24,
   "id": "63701bd7",
   "metadata": {
    "scrolled": false
   },
   "outputs": [
    {
     "name": "stdout",
     "output_type": "stream",
     "text": [
      "True\n"
     ]
    }
   ],
   "source": [
    "def snt(a):\n",
    "    for i in range(2,a):\n",
    "        if a % i == 0:\n",
    "            return False\n",
    "    if a < 2:\n",
    "        return False\n",
    "    return True\n",
    "\n",
    "ketqua = snt(2)\n",
    "print(ketqua)"
   ]
  },
  {
   "cell_type": "markdown",
   "id": "221103cf",
   "metadata": {},
   "source": [
    "Nhập vào 3 điểm toán, lý, hóa\n",
    "\n",
    "Hãy viết hàm in điểm trung bung bình rồi tính điểm trung bình của toán lý, toán hóa, lý hóa và toán lý hóa"
   ]
  },
  {
   "cell_type": "code",
   "execution_count": 1,
   "id": "1ba1d8ae",
   "metadata": {
    "scrolled": false
   },
   "outputs": [
    {
     "name": "stdout",
     "output_type": "stream",
     "text": [
      "toán:9\n",
      "lý:8.5\n",
      "hoá:10\n",
      "Trung bình Toán Lý: 8.75\n",
      "Trung bình Toán Hóa: 9.5\n",
      "Trung bình Lý Hóa: 9.25\n",
      "Trung bình Toán Lý Hóa: 9.166666666666666\n"
     ]
    }
   ],
   "source": [
    "toan = float(input(\"toán:\"))\n",
    "ly = float(input(\"lý:\"))\n",
    "hoa = float(input(\"hoá:\"))\n",
    "\n",
    "def tb2mon(a,b):\n",
    "    return (a+b)/2\n",
    "\n",
    "def tb3mon(a,b,c):\n",
    "    return (a + b + c)/3\n",
    "\n",
    "print(\"Trung bình Toán Lý:\",tb2mon(toan,ly))\n",
    "print(\"Trung bình Toán Hóa:\",tb2mon(toan,hoa))\n",
    "print(\"Trung bình Lý Hóa:\",tb2mon(ly,hoa))\n",
    "print(\"Trung bình Toán Lý Hóa:\",tb3mon(toan,ly,hoa))"
   ]
  },
  {
   "cell_type": "markdown",
   "id": "50f43307",
   "metadata": {},
   "source": [
    "Viết hàm đếm số lượng từ của một chuỗi đưa vào"
   ]
  },
  {
   "cell_type": "code",
   "execution_count": 3,
   "id": "be785b29",
   "metadata": {
    "scrolled": false
   },
   "outputs": [
    {
     "name": "stdout",
     "output_type": "stream",
     "text": [
      "Số lượng từ: 4\n"
     ]
    }
   ],
   "source": [
    "chuoi = \"Xin chào các bạn\"\n",
    "## Nếu dùng lệnh count để đếm số lượng từ thì viết như thế nào?\n",
    "print(\"Số lượng từ:\",chuoi.count(\" \") + 1)"
   ]
  },
  {
   "cell_type": "code",
   "execution_count": 8,
   "id": "ad4dc563",
   "metadata": {
    "scrolled": true
   },
   "outputs": [
    {
     "name": "stdout",
     "output_type": "stream",
     "text": [
      "4\n"
     ]
    }
   ],
   "source": [
    "chuoi = \" Xin  chào các bạn \"\n",
    "\n",
    "def demsoluongtu(a):\n",
    "    a = a.strip()\n",
    "    dem = 0 # TRONG PYTHON, LỆNH GÁN CHÍNH LÀ LỆNH KHAI BÁO\n",
    "    for i in range(len(a)):\n",
    "        if a[i] == \" \" and a[i-1] != \" \":\n",
    "            dem += 1\n",
    "    return dem + 1\n",
    "\n",
    "sl_tu = demsoluongtu(chuoi)\n",
    "print(sl_tu)"
   ]
  },
  {
   "cell_type": "markdown",
   "id": "b4adef40",
   "metadata": {},
   "source": [
    "Viết một hàm vẽ hình tròn, một hàm vẽ hình vuông và một hàm vẽ hình tam giác đều (giá trị đầu vào là a)\n",
    "\n",
    "Tất cả hàm này, bắt đầu từ 1 vị trí, sau khi vẽ ra, con trỏ sẽ tiến tới vị trí tiếp theo, cách vì đầu một khoảng a + 10 theo chiều x từ trái sang"
   ]
  },
  {
   "cell_type": "code",
   "execution_count": 1,
   "id": "e405d1d4",
   "metadata": {
    "scrolled": false
   },
   "outputs": [],
   "source": [
    "import turtle\n",
    "t = turtle.Turtle()\n",
    "t.penup()\n",
    "\n",
    "def vehinhtron(a):\n",
    "    t.fd(a/2)\n",
    "    t.pendown()\n",
    "    t.circle(a/2)\n",
    "    t.penup()\n",
    "    t.fd(a/2 + 10)\n",
    "    \n",
    "def vehinhvuong(a):\n",
    "    t.pendown()\n",
    "    for i in range(4):\n",
    "        t.fd(a)\n",
    "        t.lt(90)\n",
    "    t.penup()\n",
    "    t.fd(a+10)\n",
    "    \n",
    "def vehinhtamgiac(a):\n",
    "    t.pendown()\n",
    "    for i in range(3):\n",
    "        t.fd(a)\n",
    "        t.left(120)\n",
    "    t.penup()\n",
    "    t.fd(a+10)\n",
    "    \n",
    "vehinhtron(50)\n",
    "vehinhvuong(50)\n",
    "vehinhvuong(50)\n",
    "vehinhtamgiac(50)"
   ]
  }
 ],
 "metadata": {
  "kernelspec": {
   "display_name": "Python 3 (ipykernel)",
   "language": "python",
   "name": "python3"
  },
  "language_info": {
   "codemirror_mode": {
    "name": "ipython",
    "version": 3
   },
   "file_extension": ".py",
   "mimetype": "text/x-python",
   "name": "python",
   "nbconvert_exporter": "python",
   "pygments_lexer": "ipython3",
   "version": "3.10.1"
  }
 },
 "nbformat": 4,
 "nbformat_minor": 5
}
