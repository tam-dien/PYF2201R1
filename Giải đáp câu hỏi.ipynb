{
 "cells": [
  {
   "cell_type": "code",
   "execution_count": 1,
   "id": "aef0dcf3",
   "metadata": {},
   "outputs": [
    {
     "name": "stdout",
     "output_type": "stream",
     "text": [
      "18\n"
     ]
    }
   ],
   "source": [
    "a = \"xin chào mọi người\"\n",
    "\n",
    "for i in range(len(a)):\n",
    "    \n",
    "    \n",
    "for i in a:\n",
    "    \n",
    "\n",
    "## Tìm vị trí có ký tự a ở trong chuỗi\n",
    "## Kiểm tra xem ở trong chuỗi có chứ a hay không"
   ]
  },
  {
   "cell_type": "code",
   "execution_count": 4,
   "id": "dc85a7c5",
   "metadata": {},
   "outputs": [
    {
     "name": "stdout",
     "output_type": "stream",
     "text": [
      "có chữ a\n"
     ]
    }
   ],
   "source": [
    "a = \"xin chào mọi người a\"\n",
    "\n",
    "for i in range(len(a)):\n",
    "    if a[i] == \"a\":\n",
    "        print(\"có chữ a\")\n",
    "        break"
   ]
  },
  {
   "cell_type": "code",
   "execution_count": 6,
   "id": "a028220e",
   "metadata": {},
   "outputs": [
    {
     "name": "stdout",
     "output_type": "stream",
     "text": [
      "có chữ a\n"
     ]
    }
   ],
   "source": [
    "a = \"xin chào mọi người a\"\n",
    "\n",
    "for i in a:\n",
    "    if i == \"a\":\n",
    "        print(\"có chữ a\")\n",
    "        break"
   ]
  }
 ],
 "metadata": {
  "kernelspec": {
   "display_name": "Python 3 (ipykernel)",
   "language": "python",
   "name": "python3"
  },
  "language_info": {
   "codemirror_mode": {
    "name": "ipython",
    "version": 3
   },
   "file_extension": ".py",
   "mimetype": "text/x-python",
   "name": "python",
   "nbconvert_exporter": "python",
   "pygments_lexer": "ipython3",
   "version": "3.10.1"
  }
 },
 "nbformat": 4,
 "nbformat_minor": 5
}
