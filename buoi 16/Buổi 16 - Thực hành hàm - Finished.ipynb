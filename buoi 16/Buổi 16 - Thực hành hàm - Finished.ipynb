{
 "cells": [
  {
   "cell_type": "markdown",
   "id": "028ffec3",
   "metadata": {},
   "source": [
    "# Thực hành hàm\n",
    "\n",
    "### Bài 1\n",
    "\n",
    "Viết hàm có dữ liệu đầu vào là 2 số a và b, số nào lớn hơn thì in bảng cửu chương của số đó"
   ]
  },
  {
   "cell_type": "code",
   "execution_count": 3,
   "id": "1974966b",
   "metadata": {},
   "outputs": [
    {
     "name": "stdout",
     "output_type": "stream",
     "text": [
      "10 x 1 = 10\n",
      "10 x 2 = 20\n",
      "10 x 3 = 30\n",
      "10 x 4 = 40\n",
      "10 x 5 = 50\n",
      "10 x 6 = 60\n",
      "10 x 7 = 70\n",
      "10 x 8 = 80\n",
      "10 x 9 = 90\n"
     ]
    }
   ],
   "source": [
    "def bangcuuchuong(a,b):\n",
    "    if a < b:\n",
    "        a = b\n",
    "    for i in range(1,10):\n",
    "        print(a,\"x\",i,\"=\",a*i)\n",
    "bangcuuchuong(10,9)"
   ]
  },
  {
   "cell_type": "markdown",
   "id": "9de8ffaa",
   "metadata": {},
   "source": [
    "### Bài 2\n",
    "\n",
    "Viết hàm `xoachuoi` có dữ liệu đầu vào là 2 chuỗi a và b, hãy tìm trong chuỗi a có chuỗi b hay không, nếu có hãy xóa toán bộ chuỗi b trong a.\n",
    "\n",
    "Sau đó trả về chuỗi a mới\n",
    "\n",
    "Ví dụ:\n",
    "\n",
    "chuoi1 = \"xin chào các bạn, các bạn có khỏe không?\"\n",
    "\n",
    "chuoi2 = \"các bạn\"\n",
    "\n",
    "chuoi3 = xoachuoi(chuoi1,chuoi2)\n",
    "\n",
    "print(chuoi3)\n",
    "\n",
    "Kết quả in ra là:\n",
    "xin chào ,  có khỏe không"
   ]
  },
  {
   "cell_type": "code",
   "execution_count": 6,
   "id": "05de1584",
   "metadata": {
    "scrolled": true
   },
   "outputs": [
    {
     "name": "stdout",
     "output_type": "stream",
     "text": [
      "xin chào ,  có khỏe không?\n"
     ]
    }
   ],
   "source": [
    "chuoi1 = \"xin chào các bạn, các bạn có khỏe không?\"\n",
    "\n",
    "chuoi2 = \"các bạn\"\n",
    "\n",
    "def xoachuoi(a,b):\n",
    "    s = a.count(b)\n",
    "    for i in range(s):\n",
    "        vt = a.find(b)\n",
    "        a = a[:vt] + a[vt+len(b):]\n",
    "    return a\n",
    "        \n",
    "chuoi3 = xoachuoi(chuoi1,chuoi2)\n",
    "print(chuoi3)"
   ]
  },
  {
   "cell_type": "code",
   "execution_count": 9,
   "id": "4260d262",
   "metadata": {},
   "outputs": [
    {
     "name": "stdout",
     "output_type": "stream",
     "text": [
      "xin chào ,  có khỏe không?\n"
     ]
    }
   ],
   "source": [
    "chuoi1 = \"xin chào các bạn, các bạn có khỏe không?\"\n",
    "\n",
    "chuoi2 = \"các bạn\"\n",
    "\n",
    "def xoachuoi(a,b):\n",
    "    a = a.replace(b,\"\")\n",
    "    return a\n",
    "        \n",
    "chuoi3 = xoachuoi(chuoi1,chuoi2)\n",
    "print(chuoi3)"
   ]
  },
  {
   "cell_type": "code",
   "execution_count": 8,
   "id": "cfae0441",
   "metadata": {},
   "outputs": [
    {
     "name": "stdout",
     "output_type": "stream",
     "text": [
      "xin chào ,  có khỏe không?\n"
     ]
    }
   ],
   "source": [
    "chuoi1 = \"xin chào các bạn, các bạn có khỏe không?\"\n",
    "       # \"xin chào , các bạn có khỏe không?\"\n",
    "chuoi2 = \"các bạn\"\n",
    "\n",
    "def xoachuoi(a,b):\n",
    "    i = 0\n",
    "    while i < (len(a)): ## for i in range(len(b))\n",
    "        chuoingan = a[i:i+len(b)]\n",
    "        if chuoingan == b:\n",
    "            a = a[:i] + a[i+len(b):]\n",
    "            i -= 1\n",
    "        i += 1\n",
    "    return a\n",
    "        \n",
    "chuoi3 = xoachuoi(chuoi1,chuoi2)\n",
    "print(chuoi3)"
   ]
  },
  {
   "cell_type": "code",
   "execution_count": 9,
   "id": "1f616bbe",
   "metadata": {},
   "outputs": [
    {
     "ename": "IndexError",
     "evalue": "string index out of range",
     "output_type": "error",
     "traceback": [
      "\u001b[1;31m---------------------------------------------------------------------------\u001b[0m",
      "\u001b[1;31mIndexError\u001b[0m                                Traceback (most recent call last)",
      "\u001b[1;32m~\\AppData\\Local\\Temp/ipykernel_15412/1009129251.py\u001b[0m in \u001b[0;36m<module>\u001b[1;34m\u001b[0m\n\u001b[0;32m      2\u001b[0m \u001b[1;33m\u001b[0m\u001b[0m\n\u001b[0;32m      3\u001b[0m \u001b[1;32mfor\u001b[0m \u001b[0mi\u001b[0m \u001b[1;32min\u001b[0m \u001b[0mrange\u001b[0m\u001b[1;33m(\u001b[0m\u001b[0mlen\u001b[0m\u001b[1;33m(\u001b[0m\u001b[0ma\u001b[0m\u001b[1;33m)\u001b[0m\u001b[1;33m)\u001b[0m\u001b[1;33m:\u001b[0m\u001b[1;33m\u001b[0m\u001b[1;33m\u001b[0m\u001b[0m\n\u001b[1;32m----> 4\u001b[1;33m     \u001b[1;32mif\u001b[0m \u001b[0ma\u001b[0m\u001b[1;33m[\u001b[0m\u001b[0mi\u001b[0m\u001b[1;33m]\u001b[0m \u001b[1;33m==\u001b[0m \u001b[1;34m\"o\"\u001b[0m\u001b[1;33m:\u001b[0m\u001b[1;33m\u001b[0m\u001b[1;33m\u001b[0m\u001b[0m\n\u001b[0m\u001b[0;32m      5\u001b[0m         \u001b[0ma\u001b[0m \u001b[1;33m=\u001b[0m \u001b[0ma\u001b[0m\u001b[1;33m[\u001b[0m\u001b[1;33m:\u001b[0m\u001b[0mi\u001b[0m\u001b[1;33m]\u001b[0m \u001b[1;33m+\u001b[0m \u001b[0ma\u001b[0m\u001b[1;33m[\u001b[0m\u001b[0mi\u001b[0m\u001b[1;33m+\u001b[0m\u001b[1;36m1\u001b[0m\u001b[1;33m:\u001b[0m\u001b[1;33m]\u001b[0m\u001b[1;33m\u001b[0m\u001b[1;33m\u001b[0m\u001b[0m\n\u001b[0;32m      6\u001b[0m \u001b[1;33m\u001b[0m\u001b[0m\n",
      "\u001b[1;31mIndexError\u001b[0m: string index out of range"
     ]
    }
   ],
   "source": [
    "a = \"hello các bạn, xin chào\"\n",
    "\n",
    "for i in range(len(a)): ### Tạo ra tập lặp: {0,1,2,3,4,5,...22}\n",
    "    if a[i] == \"o\":\n",
    "        a = a[:i] + a[i+1:]\n",
    "\n",
    "print(a)"
   ]
  },
  {
   "cell_type": "code",
   "execution_count": 11,
   "id": "d323abfa",
   "metadata": {},
   "outputs": [
    {
     "name": "stdout",
     "output_type": "stream",
     "text": [
      "hell các bạn, xin chà\n"
     ]
    }
   ],
   "source": [
    "a = \"hello các bạn, xin chào\"\n",
    "\n",
    "i = 0\n",
    "while i < len(a):\n",
    "    if a[i] == \"o\":\n",
    "        a = a[:i] + a[i+1:]\n",
    "        i -= 1\n",
    "    i += 1 \n",
    "    \n",
    "print(a)"
   ]
  },
  {
   "cell_type": "markdown",
   "id": "d626394e",
   "metadata": {},
   "source": [
    "### Bài 3\n",
    "\n",
    "Viết hàm `kiemtramatkhau` với dữ liệu đầu vào là 1 chuỗi có công dụng như sau:\n",
    "\n",
    "Kiểm tra xem chuỗi đầu vào có phải là mật khẩu mạnh hay không, nếu có trả về True, nếu không trả về False\n",
    "\n",
    "Mật khẩu mạnh là mật khẩu phải có ít nhất 1 chữ hoa, 1 chữ thường, 1 số và 1 ký tự đặc biệt"
   ]
  },
  {
   "cell_type": "code",
   "execution_count": null,
   "id": "875d88f5",
   "metadata": {},
   "outputs": [],
   "source": [
    "a=input(\"Nhap chuoi kiem tra: \")\n",
    "\n",
    "def kiemtramatkhau(a):\n",
    "    kt1 = False \n",
    "    kt2 = False \n",
    "    kt3 = False \n",
    "    if a==mk: \n",
    "        for i in range(len(mk)): \n",
    "            if mk[i].isupper():\n",
    "                kt1=kt1 or True \n",
    "        for i in range(len(mk)): \n",
    "            if mk[i].islower():\n",
    "                kt2=kt2 or True        \n",
    "        for i in range(len(mk)): \n",
    "            if mk[i].isalnum()==False:\n",
    "                kt3=kt3 or True           \n",
    "        kt=kt1 and kt2 and kt3\n",
    "        if kt: \n",
    "            print(\"Mat khau manh\");\n",
    "        else: \n",
    "            print(\"Mat khau yeu\"); \n",
    "    else:\n",
    "        print(\"Mat khau khong dung\")\n",
    "        \n",
    "kiemtramatkhau(a)"
   ]
  },
  {
   "cell_type": "code",
   "execution_count": 18,
   "id": "2f65f49f",
   "metadata": {},
   "outputs": [
    {
     "name": "stdout",
     "output_type": "stream",
     "text": [
      "Nhap mật khẩu để kiểm tra: sASDsd@#\n",
      "False\n"
     ]
    }
   ],
   "source": [
    "a=input(\"Nhap mật khẩu để kiểm tra: \")\n",
    "\n",
    "def kiemtramatkhau(mk):\n",
    "    demkytuhoa = 0\n",
    "    demkytuthuong = 0\n",
    "    demso = 0\n",
    "    demkytudacbiet = 0\n",
    "    for i in mk:\n",
    "        if i.isupper():\n",
    "            demkytuhoa += 1\n",
    "        elif i.islower():\n",
    "            demkytuthuong += 1\n",
    "        elif i.isnumeric():\n",
    "            demso += 1\n",
    "        else:\n",
    "            demkytudacbiet += 1\n",
    "    if demkytuhoa >= 1 and demkytuthuong >= 1 and demso >= 1 and demkytudacbiet >= 1:\n",
    "        return True\n",
    "    return False\n",
    "\n",
    "ketqua = kiemtramatkhau(a)\n",
    "print(ketqua)"
   ]
  },
  {
   "cell_type": "markdown",
   "id": "1572568f",
   "metadata": {},
   "source": [
    "### Bài 4\n",
    "\n",
    "Viết hàm có 5 dữ liệu đầu vào là 5 số nguyên, tìm giá trị lớn nhì trong 5 số đó"
   ]
  },
  {
   "cell_type": "code",
   "execution_count": 19,
   "id": "876707ae",
   "metadata": {},
   "outputs": [
    {
     "name": "stdout",
     "output_type": "stream",
     "text": [
      "15\n"
     ]
    }
   ],
   "source": [
    "def solonnhi(a,b,c,d,e):\n",
    "    # Tìm lớn nhất\n",
    "    if a < b:\n",
    "        a, b = b, a\n",
    "    if a < c:\n",
    "        a, c = c, a\n",
    "    if a < d:\n",
    "        a, d = d, a\n",
    "    if a < e:\n",
    "        a, e = e, a\n",
    "    # Đã tìm xong lớn nhất và đưa vào a, các số còn lại nằm trong b, c, d, e\n",
    "    # Tìm lớn nhì\n",
    "    if b < c:\n",
    "        b, c = c, b\n",
    "    if b < d:\n",
    "        b, d = d, b\n",
    "    if b < e:\n",
    "        b, e = e, b\n",
    "    return b\n",
    "\n",
    "print(solonnhi(12,15,17,5,8))"
   ]
  },
  {
   "cell_type": "markdown",
   "id": "974d7da1",
   "metadata": {},
   "source": [
    "### Bài 5\n",
    "\n",
    "Nhập vào 2 cặp tọa độ tâm đường tròn và 2 bán kính R\n",
    "\n",
    "Hãy vẽ 2 hình tròn theo tọa độ và bán kính trên (tọa độ thứ nhất và bán kính thứ nhất là hình tròn thứ nhất, tọa độ thứ 2 với bán kính thứ 2 là hình tròn thứ hai)\n",
    "\n",
    "Viết hàm kiểm tra xem 2 hình tròn trên cắt nhau bao nhiêu điểm"
   ]
  },
  {
   "cell_type": "code",
   "execution_count": 1,
   "id": "f7722021",
   "metadata": {},
   "outputs": [
    {
     "name": "stdout",
     "output_type": "stream",
     "text": [
      "-1\n"
     ]
    }
   ],
   "source": [
    "import turtle\n",
    "t = turtle.Turtle()\n",
    "\n",
    "x1 = 30\n",
    "y1 = 0\n",
    "r1 = 50\n",
    "x2 = 30\n",
    "y2 = 0\n",
    "r2 = 50\n",
    "\n",
    "def vehinhtron(x,y,r,color):\n",
    "    t.color(color)\n",
    "    t.penup()\n",
    "    t.goto(x,y-r)\n",
    "    t.pendown()\n",
    "    t.circle(r)\n",
    "    \n",
    "def kiemtrahinhtron():\n",
    "    d = ((x1 - x2)**2 + (y1 - y2)**2)**0.5\n",
    "    if d == 0: ## Trường hợp đồng tâm\n",
    "        if r1 != r2: ## Trường hợp đồng tâm + khác bán kính ~~> không giao nhau\n",
    "            return 0\n",
    "        return -1 ## Trường hợp đồng tâm nhưng cùng bán kính ~~> trùng nhau (giao nhau vô số điểm)\n",
    "    if d > r1 + r2: ## Trường hợp 2 vòng tròn nằm ngoài nhau nhưng không chạm nhau\n",
    "        return 0\n",
    "    if d == r1 + r2: ## Trường hợp 2 vòng tròn nằm ngoài nhau nhưng chạm nhau tại 1 điểm\n",
    "        return 1\n",
    "    ## Trường hợp d < r1 + r2\n",
    "    if d > abs(r1 - r2): ## Trường hợp 2 vòng cắt nhau tại 2 điểm\n",
    "        return 2\n",
    "    if d == abs(r1 - r2): ## Trường hợp 2 vòng tròn tiếp xúc trong\n",
    "        return 1\n",
    "    return 0 ## Trường hợp vòng tròn nhỏ nằm trong vòng tròn lớn (không chạm nhau)\n",
    "    \n",
    "vehinhtron(x1,y1,r1,\"red\")\n",
    "vehinhtron(x2,y2,r2,\"green\")\n",
    "print(kiemtrahinhtron())"
   ]
  },
  {
   "cell_type": "markdown",
   "id": "a2157de8",
   "metadata": {},
   "source": [
    "### Bài 6\n",
    "\n",
    "Nhập vào 2 tọa độ là 2 đỉnh của một hình chữ nhật\n",
    "\n",
    "Sau đó\n",
    "\n",
    "Nhập vào tọa độ tâm đường tròn và bán kính R\n",
    "\n",
    "Hãy vẽ hình hình chữ nhật và đường tròn trên\n",
    "\n",
    "Viết hàm kiểm tra xem đường tròn trên và hình chữ nhật cắt nhau tại bao nhiêu điểm"
   ]
  },
  {
   "cell_type": "code",
   "execution_count": null,
   "id": "e0d7b1a2",
   "metadata": {},
   "outputs": [],
   "source": []
  },
  {
   "cell_type": "markdown",
   "id": "d1491579",
   "metadata": {},
   "source": [
    "### Bài 7\n",
    "\n",
    "Viết hàm kiểm tra số nguyên tố\n",
    "\n",
    "Viết hàm kiểm tra số hoàn hảo\n",
    "\n",
    "Viết hàm kiểm tra số chính phương\n",
    "\n",
    "Viết hàm kiểm tra số Armstrong\n",
    "\n",
    "Nhập vào một chuỗi, hãy lọc và tìm ra những số ở trong chuỗi (2 chữ số liền nhau là một chuỗi)\n",
    "\n",
    "Ví dụ chuỗi: \"AB25SDc5DSjjh52\"\n",
    "\n",
    "Trong chuỗi này ta có 3 số: 25, 5 và 52\n",
    "\n",
    "Sau khi lọc số, dùng các hàm trên để kiểm tra và thực hiện như sau:\n",
    "\n",
    "Cho biến S\n",
    "\n",
    "- Nếu số đó là số nguyên tố, ta thực hiện S += số đó\n",
    "- Nếu số đó là số hoàn hảo, ta thực hiện S -= số đó\n",
    "- Nếu số đó là số chính phương, ta thực hiện S /= số đó\n",
    "- Nếu đó là số Armstrong ta cho S = 0\n",
    "\n",
    "Hãy tính và in S"
   ]
  },
  {
   "cell_type": "code",
   "execution_count": 6,
   "id": "0b699e33",
   "metadata": {
    "scrolled": true
   },
   "outputs": [
    {
     "name": "stdout",
     "output_type": "stream",
     "text": [
      "25\n",
      "5\n",
      "52\n",
      "5.0\n"
     ]
    }
   ],
   "source": [
    "def snt(a):\n",
    "    for i in range(2,a):\n",
    "        if a % i == 0:\n",
    "            return False\n",
    "    if a<2:\n",
    "        return False\n",
    "    return True\n",
    "\n",
    "def sohoanhao(a):\n",
    "    a0 = 0\n",
    "    for i in range(1,a//2):\n",
    "        if a%i==0:\n",
    "            a0 +=i\n",
    "    if a0==a:\n",
    "        return True\n",
    "    return False\n",
    "\n",
    "def sochinhphuong(a):\n",
    "    cana = a**0.5\n",
    "    if cana == round(cana):\n",
    "        return True\n",
    "    return False\n",
    "\n",
    "def arms(a):\n",
    "    a0 = str(a)\n",
    "    l = len(a0) ### Đếm coi số đưa vào có bao nhiêu chữ số\n",
    "    s = 0\n",
    "    for i in a0: ### a0 là chuỗi\n",
    "        s += int(i)**l\n",
    "    if s == a:\n",
    "        return True\n",
    "    return False\n",
    "\n",
    "chuoi = \"AB25SDc5DSjjh52\"\n",
    "chuoi += \" \"\n",
    "a0 = \"\"\n",
    "S = 0\n",
    "for i in chuoi:\n",
    "    if i.isnumeric():\n",
    "        a0 += i\n",
    "    else:\n",
    "        if a0 != \"\":\n",
    "            print(a0)\n",
    "            a0 = int(a0)\n",
    "            if snt(a0):\n",
    "                S += a0\n",
    "            elif sohoanhao(a0):\n",
    "                S -= a0\n",
    "            elif sochinhphuong(a0):\n",
    "                S /= a0\n",
    "            elif arms(a0):\n",
    "                S = 0\n",
    "            a0 = \"\"\n",
    "            \n",
    "print(S)"
   ]
  }
 ],
 "metadata": {
  "kernelspec": {
   "display_name": "Python 3 (ipykernel)",
   "language": "python",
   "name": "python3"
  },
  "language_info": {
   "codemirror_mode": {
    "name": "ipython",
    "version": 3
   },
   "file_extension": ".py",
   "mimetype": "text/x-python",
   "name": "python",
   "nbconvert_exporter": "python",
   "pygments_lexer": "ipython3",
   "version": "3.10.1"
  }
 },
 "nbformat": 4,
 "nbformat_minor": 5
}
