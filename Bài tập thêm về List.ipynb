{
 "cells": [
  {
   "cell_type": "markdown",
   "id": "5761f2a7",
   "metadata": {},
   "source": [
    "Hãy kiểm tra mảng số nguyên có tồn tại hai giá trị không liên tiếp hay không ?"
   ]
  },
  {
   "cell_type": "code",
   "execution_count": 4,
   "id": "a0acf4b7",
   "metadata": {},
   "outputs": [
    {
     "name": "stdout",
     "output_type": "stream",
     "text": [
      "True\n"
     ]
    }
   ],
   "source": [
    "def giatrikhong(L):\n",
    "    for i in range(len(L) - 1):\n",
    "        if L[i] == L[i+1] == 0:\n",
    "            return True\n",
    "    return False\n",
    "L=[1,1,0,0,7,5,0]\n",
    "print(giatrikhong(L))"
   ]
  },
  {
   "cell_type": "markdown",
   "id": "ae867e74",
   "metadata": {},
   "source": [
    "Hãy kiểm tra mảng số nguyên có tồn tại giá trị chẵn hay không? Nếu không tồn tại giá trị chẵn trả về giá trị 0, hay ngược lại trả về 1."
   ]
  },
  {
   "cell_type": "code",
   "execution_count": null,
   "id": "1abdd057",
   "metadata": {},
   "outputs": [],
   "source": [
    "def giatrichan(L):\n",
    "    for i in L:\n",
    "        if i % 2 == 0:\n",
    "            return True\n",
    "    return False"
   ]
  },
  {
   "cell_type": "markdown",
   "id": "5a49eda8",
   "metadata": {},
   "source": [
    "Hãy cho biết mảng các số nguyên có toàn số chẵn hay không? Nếu có tồn tại giá trị lẻ trả về giá trị 0, ngược lại trả về 1."
   ]
  },
  {
   "cell_type": "code",
   "execution_count": null,
   "id": "9b4d2f7d",
   "metadata": {},
   "outputs": [],
   "source": [
    "def toanbochan(L):\n",
    "    for i in L:\n",
    "        if i % 2 != 0:\n",
    "            return False\n",
    "    return True"
   ]
  },
  {
   "cell_type": "markdown",
   "id": "a736df1e",
   "metadata": {},
   "source": [
    "Hãy kiểm tra mảng một chiều các số thực có đối xứng hay không?"
   ]
  },
  {
   "cell_type": "code",
   "execution_count": null,
   "id": "c360bf6e",
   "metadata": {},
   "outputs": [],
   "source": [
    "def doixung(L):\n",
    "    for i in range(len(L)//2):\n",
    "        if L[i] != L[len(L) - 1 - i]:\n",
    "            ## L[0] so sánh với l[len(L) - 1]\n",
    "            ## L[1] so sánh với l[len(L) - 2]\n",
    "            ## L[2] so sánh với l[len(L) - 3]\n",
    "            ## L[3] so sánh với l[len(L) - 4]\n",
    "            return False\n",
    "    return True"
   ]
  },
  {
   "cell_type": "code",
   "execution_count": 8,
   "id": "aaa9b9cb",
   "metadata": {},
   "outputs": [
    {
     "name": "stdout",
     "output_type": "stream",
     "text": [
      "True\n"
     ]
    }
   ],
   "source": [
    "def doixung(L):\n",
    "    L0 = L[::-1]\n",
    "    if L0 == L:\n",
    "        return True\n",
    "    return False\n",
    "\n",
    "L = [1,2,3,2,1]\n",
    "print(doixung(L))"
   ]
  },
  {
   "cell_type": "markdown",
   "id": "975b9821",
   "metadata": {},
   "source": [
    "Ta định nghĩa một mảng có tính chẵn lẻ, khi tổng của hai phần tử liên tiếp trong mảng luôn luôn là số lẻ. Hãy viết hàm kiểm tra mảng a có tính chẵn lẻ hay không?"
   ]
  },
  {
   "cell_type": "code",
   "execution_count": 11,
   "id": "7ec6108e",
   "metadata": {},
   "outputs": [
    {
     "name": "stdout",
     "output_type": "stream",
     "text": [
      "False\n"
     ]
    }
   ],
   "source": [
    "def chanle(L):\n",
    "    for i in range(len(L) - 1):\n",
    "        if (L[i] + L[i+1]) % 2 != 1:\n",
    "            return False\n",
    "    return True\n",
    "\n",
    "L = [1,2,4,2,1]\n",
    "print(chanle(L))"
   ]
  },
  {
   "cell_type": "markdown",
   "id": "434a04e0",
   "metadata": {},
   "source": [
    " Hãy kiểm tra mảng có tăng dần hay không?"
   ]
  },
  {
   "cell_type": "code",
   "execution_count": 14,
   "id": "1f51e3e6",
   "metadata": {},
   "outputs": [
    {
     "name": "stdout",
     "output_type": "stream",
     "text": [
      "True\n"
     ]
    }
   ],
   "source": [
    "def tangdan(L):\n",
    "    for i in range(len(L) - 1):\n",
    "        if L[i+1] < L[i]:\n",
    "            return False\n",
    "    return True\n",
    "\n",
    "L = [1,2,2,5,7]\n",
    "print(tangdan(L))"
   ]
  },
  {
   "cell_type": "markdown",
   "id": "2dca9538",
   "metadata": {},
   "source": [
    "Hãy kiểm tra mảng có giảm dần hay không?"
   ]
  },
  {
   "cell_type": "code",
   "execution_count": 16,
   "id": "eb5154cc",
   "metadata": {},
   "outputs": [
    {
     "name": "stdout",
     "output_type": "stream",
     "text": [
      "True\n"
     ]
    }
   ],
   "source": [
    "def tangdan(L):\n",
    "    for i in range(len(L) - 1):\n",
    "        if L[i+1] > L[i]:\n",
    "            return False\n",
    "    return True\n",
    "\n",
    "L = [7,2,2,1,0]\n",
    "print(tangdan(L))"
   ]
  },
  {
   "cell_type": "markdown",
   "id": "24dd211d",
   "metadata": {},
   "source": [
    "Hãy cho biết các phần tử trong mảng có lập thành cấp số cộng không? Nếu có hãy chỉ ra công sai d"
   ]
  },
  {
   "cell_type": "code",
   "execution_count": 19,
   "id": "e9dda389",
   "metadata": {},
   "outputs": [
    {
     "name": "stdout",
     "output_type": "stream",
     "text": [
      "công sai d: 2\n",
      "True\n"
     ]
    }
   ],
   "source": [
    "def capsocong(L):\n",
    "    for i in range(len(L) - 2):\n",
    "        if L[i+2] - L[i+1] != L[i+1] - L[i]:\n",
    "            return False\n",
    "    print(\"Công sai d:\",L[1] - L[0])\n",
    "    return True\n",
    "\n",
    "L = [0,2,4,6,8]\n",
    "print(capsocong(L))"
   ]
  },
  {
   "cell_type": "markdown",
   "id": "19be5057",
   "metadata": {},
   "source": [
    "Hãy cho biết các phần tử trong mảng có bằng nhau không?"
   ]
  },
  {
   "cell_type": "code",
   "execution_count": 21,
   "id": "1ff05a5d",
   "metadata": {},
   "outputs": [
    {
     "name": "stdout",
     "output_type": "stream",
     "text": [
      "False\n"
     ]
    }
   ],
   "source": [
    "def bangnhau(L):\n",
    "    for i in range(1,len(L)):\n",
    "        if L[i] != L[0]:\n",
    "            return False\n",
    "    return True\n",
    "\n",
    "L = [5,5,4,5,5,5]\n",
    "print(bangnhau(L))"
   ]
  },
  {
   "cell_type": "markdown",
   "id": "58268599",
   "metadata": {},
   "source": [
    "Người ta định nghĩa một mảng được gọi là “dạng sóng” khi phần tử có giá trị số I lớn hơn hoặc nhỏ hơn hai phần tử xung quanh nó. Hãy viết hàm kiểm tra trong a sóng hay không?"
   ]
  },
  {
   "cell_type": "code",
   "execution_count": 23,
   "id": "1572fb15",
   "metadata": {},
   "outputs": [
    {
     "name": "stdout",
     "output_type": "stream",
     "text": [
      "False\n"
     ]
    }
   ],
   "source": [
    "def dangsong(L):\n",
    "    for i in range(len(L) - 2):\n",
    "        if not (L[i] < L[i+1] > L[i+2] or L[i] > L[i+1] < L[i+2]):\n",
    "            return False\n",
    "    return True\n",
    "\n",
    "L = [0,7,5,6,2,1]\n",
    "print(dangsong(L))"
   ]
  },
  {
   "cell_type": "markdown",
   "id": "3a06a75d",
   "metadata": {},
   "source": [
    "Hãy đếm số lượng giá trị trong mảng thỏa tính chất: “lớn hơn tất cả các giá trị đứng đằng trước nó”"
   ]
  },
  {
   "cell_type": "code",
   "execution_count": 26,
   "id": "33f9e4a3",
   "metadata": {},
   "outputs": [
    {
     "name": "stdout",
     "output_type": "stream",
     "text": [
      "[] 3\n",
      "[3] 7\n",
      "[3, 7] 5\n",
      "[3, 7, 5] 2\n",
      "[3, 7, 5, 2] 8\n"
     ]
    },
    {
     "data": {
      "text/plain": [
       "3"
      ]
     },
     "execution_count": 26,
     "metadata": {},
     "output_type": "execute_result"
    }
   ],
   "source": [
    "def tinhchatA(L_dangtruoca,a): ## hàm kiểm tra tính chất\n",
    "    for i in L_dangtruoca:\n",
    "        if a <= i:\n",
    "            return False\n",
    "    return True\n",
    "\n",
    "def demtinhchatA(L): ## Hàm yêu cầu của đề\n",
    "    dem = 0\n",
    "    for i in range(len(L)):\n",
    "        print(L[:i],L[i])\n",
    "        if tinhchatA(L[:i],L[i]):\n",
    "            dem += 1\n",
    "    return dem\n",
    "\n",
    "L = [3,7,5,2,8]\n",
    "demtinhchatA(L)"
   ]
  },
  {
   "cell_type": "markdown",
   "id": "09720f79",
   "metadata": {},
   "source": [
    "Hãy trộn hai mảng tăng dần lại thành 1 mảng được sắp thứ tự tăng dần"
   ]
  },
  {
   "cell_type": "code",
   "execution_count": 27,
   "id": "d91a0d7c",
   "metadata": {},
   "outputs": [
    {
     "name": "stdout",
     "output_type": "stream",
     "text": [
      "[1, 2, 3, 5, 6, 7, 7, 8]\n"
     ]
    }
   ],
   "source": [
    "L1 = [1,3,6,7]\n",
    "L2 = [2,5,7,8]\n",
    "## ~~> L = [1,2,3,5,6,7,7,8]\n",
    "def tronmang(L1,L2):\n",
    "    L_kq = []\n",
    "    while len(L1) != 0 or len(L2) != 0:\n",
    "        if len(L2) == 0 or (len(L1) != 0 and L1[0] < L2[0]):\n",
    "            L_kq.append(L1[0])\n",
    "            L1.pop(0)\n",
    "        else:\n",
    "            L_kq.append(L2[0])\n",
    "            L2.pop(0)\n",
    "    return L_kq\n",
    "print(tronmang(L1,L2))"
   ]
  },
  {
   "cell_type": "markdown",
   "id": "c2a03df7",
   "metadata": {},
   "source": [
    "Hãy đưa các số chẵn trong mảng về đầu mảng, số lẻ về cuối mảng và các phần tử 0 năm ở giữa"
   ]
  },
  {
   "cell_type": "code",
   "execution_count": 29,
   "id": "2595ba23",
   "metadata": {},
   "outputs": [
    {
     "name": "stdout",
     "output_type": "stream",
     "text": [
      "[2, 6, 8, 0, 0, 1, 3, 5, 7, 7]\n"
     ]
    }
   ],
   "source": [
    "def sapxep(L):\n",
    "    L_chan = []\n",
    "    L_le = []\n",
    "    L_khong = []\n",
    "    for i in L:\n",
    "        if i == 0:\n",
    "            L_khong.append(i)\n",
    "        elif i % 2 == 0:\n",
    "            L_chan.append(i)\n",
    "        else:\n",
    "            L_le.append(i)\n",
    "    L_kq = L_chan + L_khong + L_le\n",
    "    return L_kq\n",
    "L = [1,2,3,5,6,7,7,8,0,0]\n",
    "print(sapxep(L))"
   ]
  },
  {
   "cell_type": "markdown",
   "id": "88a5356c",
   "metadata": {},
   "source": [
    "Hãy đưa các số chia hết cho 3 về đầu mảng"
   ]
  },
  {
   "cell_type": "code",
   "execution_count": null,
   "id": "2015e143",
   "metadata": {},
   "outputs": [],
   "source": []
  },
  {
   "cell_type": "markdown",
   "id": "873d2a46",
   "metadata": {},
   "source": [
    "Hãy xuất mảng theo yêu cầu: các phần tử chẵn nằm trên một hàng, các phần tử lẻ nằm ở hàng tiếp theo"
   ]
  },
  {
   "cell_type": "code",
   "execution_count": null,
   "id": "99109b77",
   "metadata": {},
   "outputs": [],
   "source": []
  },
  {
   "cell_type": "markdown",
   "id": "5e2c226d",
   "metadata": {},
   "source": [
    "Hãy biến đổi mảng bằng cách thay các giá trị lớn nhất bằng giá trị nhỏ nhất và ngược lại"
   ]
  },
  {
   "cell_type": "code",
   "execution_count": null,
   "id": "62eefa1a",
   "metadata": {},
   "outputs": [],
   "source": []
  },
  {
   "cell_type": "markdown",
   "id": "4c5e92fa",
   "metadata": {},
   "source": [
    "Hãy đảo ngược thứ tự các số chẵn và các số lẻ trong mảng mà vẫn giữ nguyên vị trí tương đối của chúng"
   ]
  },
  {
   "cell_type": "code",
   "execution_count": null,
   "id": "0d6ba5f3",
   "metadata": {},
   "outputs": [],
   "source": [
    "[2,5,7,14] ~~> [5,2,14,7]\n",
    "## List phải có số lượng số lẻ bằng với số lượng số chẳn"
   ]
  }
 ],
 "metadata": {
  "kernelspec": {
   "display_name": "Python 3 (ipykernel)",
   "language": "python",
   "name": "python3"
  },
  "language_info": {
   "codemirror_mode": {
    "name": "ipython",
    "version": 3
   },
   "file_extension": ".py",
   "mimetype": "text/x-python",
   "name": "python",
   "nbconvert_exporter": "python",
   "pygments_lexer": "ipython3",
   "version": "3.10.1"
  }
 },
 "nbformat": 4,
 "nbformat_minor": 5
}
