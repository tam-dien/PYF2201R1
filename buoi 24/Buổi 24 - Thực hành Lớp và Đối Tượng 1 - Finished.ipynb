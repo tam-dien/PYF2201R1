{
 "cells": [
  {
   "cell_type": "markdown",
   "id": "ec00548e",
   "metadata": {},
   "source": [
    "# Thực hành Lớp và Đối Tượng 1"
   ]
  },
  {
   "cell_type": "markdown",
   "id": "e9a5b1b0",
   "metadata": {},
   "source": [
    "### Bài 1"
   ]
  },
  {
   "cell_type": "markdown",
   "id": "b89649bc",
   "metadata": {},
   "source": [
    "Viết một lớp point để lưu trữ một điểm trong hệ trục tọa độ Oxy\n",
    "\n",
    "Class này có:\n",
    "\n",
    "<b> Các biến: </b>\n",
    "- <b>x</b>: mang tọa độ x của diểm\n",
    "- <b>y</b>: mang tọa độ y của diểm\n",
    "\n",
    "<b> Các hàm: </b>\n",
    "- <b>khoangcachgoc:</b> hàm này trả về khoảng cách từ điểm đến điểm gốc(0,0)\n",
    "- <b>khoangcach(tham số đầu vào là 1 đối tượng có lớp point):</b> hàm này trả về khoảng cách từ điểm đến điểm được đưa vào\n",
    "- <b>diemdoixung:</b> hàm này trả về đối tượng có lớp point là điểm đối xứng của điểm qua điểm gốc(0,0)\n",
    "- <b>diemtrungbinh(tham số đầu vào là 1 đối tượng có lớp point):</b> hàm này trả về đối tượng có lớp point là điểm nằm chính giữa điểm và điểm được đưa vào\n",
    "- <b>thanghang(tham số đầu vào là 2 đối tượng có lớp point):</b> hàm này trả về kết quả kiểm tra 3 điểm có thẳng hằng hay không (True/False)\n",
    "- <b>vuonggoc((tham số đầu vào là 3 đối tượng có lớp point):</b> hàm trả trả về kết quả kiểm tra 4 điểm có tạo thành 2 đường thẳng vuông góc được hay không (True/False)"
   ]
  },
  {
   "cell_type": "code",
   "execution_count": 5,
   "id": "ca30ea7d",
   "metadata": {},
   "outputs": [
    {
     "name": "stdout",
     "output_type": "stream",
     "text": [
      "False\n"
     ]
    }
   ],
   "source": [
    "class point:\n",
    "    def __init__(self,x,y):\n",
    "        self.x = x\n",
    "        self.y = y\n",
    "    def intoado(self):\n",
    "        print(\"(\",self.x,\",\",self.y,\")\",sep = \"\")\n",
    "    def khoangcachgoc(self):\n",
    "        return (self.x**2 + self.y**2)**0.5\n",
    "    def khoangcach(self,a):\n",
    "        return ((self.x - a.x)**2 + (self.y - a.y)**2)**0.5\n",
    "    def diemdoixung(self):\n",
    "        return point(-self.x,-self.y)\n",
    "    def diemtrungbinh(self,a):\n",
    "        x = (self.x + a.x)/2\n",
    "        y = (self.y + a.y)/2\n",
    "        return point(x,y)\n",
    "    def thanghang(self,a,b):\n",
    "        vt1 = [self.x - a.x,self.y - a.y]\n",
    "        vt2 = [b.x - a.x,b.y - a.y]\n",
    "        if vt1[0]*vt2[1] == vt1[1]*vt2[0]:\n",
    "            return True\n",
    "        return False\n",
    "    def vuonggoc(self,a,b,c):\n",
    "        vt1 = [self.x - a.x,self.y - a.y] ## vector numpy\n",
    "        vt2 = [b.x - c.x,b.y - c.y] ## vector\n",
    "        if (vt1[0]*vt2[0] + vt1[1]*vt2[1]) == 0:\n",
    "            return True\n",
    "        vt1 = [self.x - b.x,self.y - b.y] ## vector numpy\n",
    "        vt2 = [d.x - c.x,d.y - c.y] ## vector\n",
    "        if (vt1[0]*vt2[0] + vt1[1]*vt2[1]) == 0:\n",
    "            return True\n",
    "        vt1 = [self.x - c.x,self.y - c.y] ## vector numpy\n",
    "        vt2 = [a.x - b.x,a.y - b.y] ## vector\n",
    "        if (vt1[0]*vt2[0] + vt1[1]*vt2[1]) == 0:\n",
    "            return True\n",
    "\n",
    "diemA = point(1,1)\n",
    "diemB = point(2,2)\n",
    "diemC = point(3,4)\n",
    "print(diemC.thanghang(diemB,diemA))"
   ]
  },
  {
   "cell_type": "markdown",
   "id": "59c44a5f",
   "metadata": {},
   "source": [
    "### Bài 2"
   ]
  },
  {
   "cell_type": "markdown",
   "id": "b6f8706c",
   "metadata": {},
   "source": [
    "Viết một lớp line để lưu trữ một đường thẳng trong hệ trục tọa độ Oxy (có dạng ax + by + c = 0)\n",
    "\n",
    "Class này có:\n",
    "\n",
    "<b> Các biến: </b>\n",
    "- <b>a</b>: hệ số a của phương trình\n",
    "- <b>b</b>: hệ số b của phương trình\n",
    "- <b>c</b>: hệ số c của phương trình\n",
    "\n",
    "<b> Các hàm: </b>\n",
    "- <b>khoangcachgoc:</b> hàm này trả về khoảng cách từ đường thẳng đến điểm gốc(0,0)\n",
    "- <b>khoangcach(tham số đầu vào là 1 đối tượng có lớp point):</b> hàm này trả về khoảng cách từ đường thẳng đến điểm được đưa vào\n",
    "- <b>tinhchat(tham số đầu vào là 1 đối tượng có lớp line):</b> hàm này kiểm tra xem 2 đường thẳng cắt nhau hay song song hay trùng nhau (trả về 0: cắt nhau, 1: song song, 2: trùng nhau)\n",
    "- <b>thuocduongthang(tham số đầu vào là 1 đối tượng có lớp point):</b> hàm này trả về kết quả điểm có thuộc đường thẳng hay không (True/False)\n",
    "- <b>duongthangtrungbinh(tham số đầu vào là 1 đối tượng có lớp point):</b> hàm này trả về đối tượng có lớp line là đường thẳng nằm chính giữa đường thẳng và điểm được đưa vào\n",
    "- <b>songsong(tham số đầu vào là 2 đối tượng có lớp point):</b> hàm này trả về kết quả kiểm tra 2 điểm có có tạo đường thẳng song song với đường thẳng hay không (True/False)\n",
    "- <b>vuonggoc((tham số đầu vào là 2 đối tượng có lớp point):</b> hàm này trả về kết quả kiểm tra 2 điểm có có tạo đường thẳng vuông góc với đường thẳng hay không (True/False)"
   ]
  },
  {
   "cell_type": "code",
   "execution_count": 7,
   "id": "ce32e9aa",
   "metadata": {},
   "outputs": [
    {
     "name": "stdout",
     "output_type": "stream",
     "text": [
      "1x + -1y + 2.0 = 0\n"
     ]
    }
   ],
   "source": [
    "class line:\n",
    "    def __init__(self,a,b,c):\n",
    "        self.a = a\n",
    "        self.b = b\n",
    "        self.c = c\n",
    "    def inra(self):\n",
    "        print(self.a,\"x + \",self.b,\"y + \",self.c,\" = 0\",sep = \"\")\n",
    "    def khoangcachgoc(self):\n",
    "        return abs(self.c)/((self.a**2 + self.b**2)**0.5)\n",
    "    def khoangcach(self,diem):\n",
    "        return abs(self.a*diem.x + self.b*diem.y + self.c)/((self.a**2 + self.b**2)**0.5)\n",
    "    def tinhchat(self,dt):\n",
    "        a = self.a\n",
    "        b = self.b\n",
    "        c = self.c\n",
    "        a1 = dt.a\n",
    "        b1 = dt.b\n",
    "        c1 = dt.c\n",
    "        if a1*b == b1*a:\n",
    "            if a1*c == c1*a:\n",
    "                return 2\n",
    "            return 1\n",
    "        return 0\n",
    "    def thuocduongthang(self,diem):\n",
    "        if self.a*diem.x + self.b*diem.y + self.c == 0:\n",
    "            return True\n",
    "        return False\n",
    "    def duongthangtrungbinh(self,diem):\n",
    "        a_new = self.a\n",
    "        b_new = self.b\n",
    "        a_d1 = self.a\n",
    "        b_d1 = self.b\n",
    "        c_d1 = -a_d1*diem.x - b_d1*diem.y # -1*2 + \n",
    "        c_new = (c_d1 + self.c)/2\n",
    "        return line(a_new,b_new,c_new)\n",
    "    def songsong(self,diemA,diemB):\n",
    "        vt1 = [-self.b,self.a]\n",
    "        vt2 = [diemA.x - diemB.x, diemA.y - diemB.y]\n",
    "        if not self.thuocduongthang(diemA) and vt1[0]*vt2[1] == vt1[0]*vt2[1]:\n",
    "            return True\n",
    "        return False\n",
    "    def vuonggoc(self,diemA,diemB):\n",
    "        vt1 = [self.a,self.b]\n",
    "        vt2 = [diemA.x - diemB.x, diemA.y - diemB.y]\n",
    "        if not self.thuocduongthang(diemA) and vt1[0]*vt2[1] == vt1[0]*vt2[1]:\n",
    "            return True\n",
    "        return False\n",
    "        \n",
    "dthang1 = line(1,-1,0)\n",
    "diemA = point(-2,2)\n",
    "dthang2 = dthang1.duongthangtrungbinh(diemA)\n",
    "dthang2.inra()"
   ]
  }
 ],
 "metadata": {
  "kernelspec": {
   "display_name": "Python 3 (ipykernel)",
   "language": "python",
   "name": "python3"
  },
  "language_info": {
   "codemirror_mode": {
    "name": "ipython",
    "version": 3
   },
   "file_extension": ".py",
   "mimetype": "text/x-python",
   "name": "python",
   "nbconvert_exporter": "python",
   "pygments_lexer": "ipython3",
   "version": "3.10.1"
  }
 },
 "nbformat": 4,
 "nbformat_minor": 5
}
