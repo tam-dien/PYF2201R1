{
 "cells": [
  {
   "cell_type": "markdown",
   "id": "dcdb816e",
   "metadata": {},
   "source": [
    "# Thực hành cấu trúc điều khiển\n",
    "\n",
    "### Bài 1\n",
    "\n",
    "Cho phương trình bậc 2: ax^2 + bx + c = 0\n",
    "\n",
    "Nhập a, b, c\n",
    "\n",
    "Giải và biện luận phương trình trên"
   ]
  },
  {
   "cell_type": "code",
   "execution_count": 5,
   "id": "b5a5c325",
   "metadata": {},
   "outputs": [
    {
     "name": "stdout",
     "output_type": "stream",
     "text": [
      "Giải PT bậc 2: ax^2 + bx + c = 0\n",
      "Nhập a: 1\n",
      "Nhập b: -5\n",
      "Nhập c: 6\n",
      "Đây là phương trình có 2 nghiệm phân biệt: 3.0 và 2.0\n"
     ]
    }
   ],
   "source": [
    "print(\"Giải PT bậc 2: ax^2 + bx + c = 0\")\n",
    "a = float(input(\"Nhập a: \"))\n",
    "b = float(input(\"Nhập b: \"))\n",
    "c = float(input(\"Nhập c: \"))\n",
    "\n",
    "if a == 0: ## bx + c = 0\n",
    "    if b == 0:\n",
    "        if c == 0: ## 0 = 0\n",
    "            print(\"Phương trình vô số nghiệm\")\n",
    "        else:\n",
    "            print(\"Phương trình vô nghiệm\")\n",
    "    else:\n",
    "        print(\"Đây là phương có 1 nghiệm x = \", -c/b)\n",
    "else:\n",
    "    delta = b**2 - 4*a*c\n",
    "    if delta > 0:\n",
    "        candelta = delta**0.5\n",
    "        x1 = (-b+candelta)/(2*a)\n",
    "        x2 = (-b-candelta)/(2*a)\n",
    "        print(\"Đây là phương trình có 2 nghiệm phân biệt:\",x1,\"và\",x2)\n",
    "    elif delta == 0:\n",
    "        x = -b/(2*a)\n",
    "        print(\"Đây là phương trình có 1 nghiệm kép:\",x)\n",
    "    else:\n",
    "        print(\"Đây là phương trình vô nghiệm\")"
   ]
  },
  {
   "cell_type": "markdown",
   "id": "6f7d329d",
   "metadata": {},
   "source": [
    "### Bài 2\n",
    "\n",
    "Hãy nhập vào một số\n",
    "\n",
    "Xác định coi đó có phải là số nguyên tố hay không"
   ]
  },
  {
   "cell_type": "code",
   "execution_count": null,
   "id": "049c85f5",
   "metadata": {},
   "outputs": [],
   "source": [
    "a = int(input('Nhập a:'))\n",
    "n = 1\n",
    "kiemtra = False\n",
    "\n",
    "for i in range(a-2):\n",
    "    n += 1\n",
    "    check= a % n == 0\n",
    "    kiemtra = kiemtra or check\n",
    "\n",
    "if str(kiemtra) == \"False\":\n",
    "    print('Đây là số nguyên tố')\n",
    "else:\n",
    "    print('Đây không phải là số nguyên tố')"
   ]
  },
  {
   "cell_type": "code",
   "execution_count": null,
   "id": "7c19ecf0",
   "metadata": {},
   "outputs": [],
   "source": [
    "a = int(input('Nhập a:'))\n",
    "n = 1\n",
    "kiemtra = True\n",
    "\n",
    "if a > 1:\n",
    "    for i in range(a-2):\n",
    "        n += 1\n",
    "        check = a % n != 0 # nếu phát hiện số không chia hết ~~> True # nếu phát hiện số chia hết ~~> False\n",
    "        kiemtra = kiemtra and check\n",
    "    if kiemtra:\n",
    "        print('Đây là số nguyên tố')\n",
    "    else:\n",
    "        print('Đây không phải là số nguyên tố')\n",
    "else:\n",
    "    prnt(\"Đây không là số nguyên tố\")\n"
   ]
  },
  {
   "cell_type": "code",
   "execution_count": null,
   "id": "085f747f",
   "metadata": {},
   "outputs": [],
   "source": [
    "a = int(input('Nhập a:'))\n",
    "n = 1\n",
    "ketqua = True\n",
    "if a > 1:\n",
    "    for i in range(a-2):\n",
    "        n += 1\n",
    "        if a % n == 0:\n",
    "            ketqua = False\n",
    "    if kiemtra:\n",
    "        print('Đây là số nguyên tố')\n",
    "    else:\n",
    "        print('Đây không phải là số nguyên tố')\n",
    "else:\n",
    "    prnt(\"Đây không là số nguyên tố\")"
   ]
  },
  {
   "cell_type": "code",
   "execution_count": null,
   "id": "73e096e0",
   "metadata": {},
   "outputs": [],
   "source": [
    "a = int(input('Nhập a:'))\n",
    "\n",
    "u = 1\n",
    "s = 0\n",
    "\n",
    "for i in range(a):\n",
    "    if a % u == 0:\n",
    "        s += 1\n",
    "    u += 1\n",
    "\n",
    "if s == 2:\n",
    "    print(\"Số nguyên tố\")\n",
    "else:\n",
    "    print(\"Không phải số nguyên tố\")"
   ]
  },
  {
   "cell_type": "markdown",
   "id": "75f7717b",
   "metadata": {},
   "source": [
    "### Bài 3\n",
    "\n",
    "Hãy nhập vào số n\n",
    "\n",
    "Hãy đếm số chữ số 0 tận cùng của n giai thừa\n",
    "\n",
    "(Bài này nâng cao, mọi người có thể bỏ qua)"
   ]
  },
  {
   "cell_type": "code",
   "execution_count": null,
   "id": "789e0e76",
   "metadata": {},
   "outputs": [
    {
     "name": "stdout",
     "output_type": "stream",
     "text": [
      "Nhập vào n:1000000\n"
     ]
    }
   ],
   "source": [
    "n = int(input(\"Nhập vào n:\"))\n",
    "giaithua = 1\n",
    "k = 1\n",
    "for i in range(n):\n",
    "    giaithua *= k\n",
    "    k += 1\n",
    "print(giaithua)\n",
    "\n",
    "giaithua = str(giaithua)\n",
    "c = -1\n",
    "dem = 0\n",
    "\n",
    "for i in range(len(giaithua)):\n",
    "    if giaithua[c] == \"0\":\n",
    "        dem += 1\n",
    "        c -= 1\n",
    "print(dem)"
   ]
  },
  {
   "cell_type": "markdown",
   "id": "29cd6c81",
   "metadata": {},
   "source": [
    "### Bài 4\n",
    "\n",
    "In ra tất cả các số chia hết cho 3 nhỏ hơn 100"
   ]
  },
  {
   "cell_type": "code",
   "execution_count": 2,
   "id": "0b848981",
   "metadata": {},
   "outputs": [
    {
     "name": "stdout",
     "output_type": "stream",
     "text": [
      "3\n",
      "6\n",
      "9\n",
      "12\n",
      "15\n",
      "18\n",
      "21\n",
      "24\n",
      "27\n",
      "30\n",
      "33\n",
      "36\n",
      "39\n",
      "42\n",
      "45\n",
      "48\n",
      "51\n",
      "54\n",
      "57\n",
      "60\n",
      "63\n",
      "66\n",
      "69\n",
      "72\n",
      "75\n",
      "78\n",
      "81\n",
      "84\n",
      "87\n",
      "90\n",
      "93\n",
      "96\n",
      "99\n"
     ]
    }
   ],
   "source": [
    "a = 1\n",
    "for i in range(100):\n",
    "    if a % 3 == 0:\n",
    "        print(a)\n",
    "    a += 1"
   ]
  },
  {
   "cell_type": "code",
   "execution_count": 1,
   "id": "922b98ba",
   "metadata": {},
   "outputs": [
    {
     "name": "stdout",
     "output_type": "stream",
     "text": [
      "3\n",
      "6\n",
      "9\n",
      "12\n",
      "15\n",
      "18\n",
      "21\n",
      "24\n",
      "27\n",
      "30\n",
      "33\n",
      "36\n",
      "39\n",
      "42\n",
      "45\n",
      "48\n",
      "51\n",
      "54\n",
      "57\n",
      "60\n",
      "63\n",
      "66\n",
      "69\n",
      "72\n",
      "75\n",
      "78\n",
      "81\n",
      "84\n",
      "87\n",
      "90\n",
      "93\n",
      "96\n",
      "99\n"
     ]
    }
   ],
   "source": [
    "a = 3\n",
    "\n",
    "for i in range(33):\n",
    "    print(a)\n",
    "    a+=3"
   ]
  },
  {
   "cell_type": "markdown",
   "id": "04dbf99b",
   "metadata": {},
   "source": [
    "### Bài 5\n",
    "\n",
    "In ra tất cả các số lẻ nhưng không chia hết cho 3 nhỏ hơn 100"
   ]
  },
  {
   "cell_type": "code",
   "execution_count": 3,
   "id": "769eb439",
   "metadata": {},
   "outputs": [
    {
     "name": "stdout",
     "output_type": "stream",
     "text": [
      "1\n",
      "5\n",
      "7\n",
      "11\n",
      "13\n",
      "17\n",
      "19\n",
      "23\n",
      "25\n",
      "29\n",
      "31\n",
      "35\n",
      "37\n",
      "41\n",
      "43\n",
      "47\n",
      "49\n",
      "53\n",
      "55\n",
      "59\n",
      "61\n",
      "65\n",
      "67\n",
      "71\n",
      "73\n",
      "77\n",
      "79\n",
      "83\n",
      "85\n",
      "89\n",
      "91\n",
      "95\n",
      "97\n"
     ]
    }
   ],
   "source": [
    "a = 1\n",
    "for i in range(50):\n",
    "    if a % 3 != 0:\n",
    "        print(a)\n",
    "    a += 2"
   ]
  },
  {
   "cell_type": "markdown",
   "id": "26dd47fb",
   "metadata": {},
   "source": [
    "### Bài 5\n",
    "\n",
    "Tại một cửa hàng nọ có menu như sau:\n",
    "\n",
    "1. Gà rán giá 35k\n",
    "2. Hamburger giá 50k\n",
    "3. Pesi giá 10k\n",
    "\n",
    "Nhập số lượng món hàng cần mua\n",
    "\n",
    "Tính và in ra tổng giá tiền (hiển thị có dấu chấm mỗi 3 chữ số để người dùng để quan sát)\n",
    "\n",
    "Nếu giá trị đơn hàng trên 2 triệu, giảm 10% cho khách, trên 4 triệu, giảm 15%\n",
    "\n",
    "Tính và in ra tổng giá tiền được giảm (hiển thị có dấu chấm mỗi 3 chữ số để người dùng để quan sát)\n",
    "\n",
    "Tính và in ra tổng giá tiền khách cần trả (hiển thị có dấu chấm mỗi 3 chữ số để người dùng để quan sát)\n",
    "\n",
    "In ra dòng chữ \"Cảm ơn quý khách đã mua hàng\""
   ]
  },
  {
   "cell_type": "code",
   "execution_count": 6,
   "id": "8509df1e",
   "metadata": {},
   "outputs": [
    {
     "name": "stdout",
     "output_type": "stream",
     "text": [
      "so luong ga ran:5\n",
      "so luong Hamburger:200\n",
      "so luong Pesi:10\n",
      "Bạn được giảm: 1541250.0 đồng\n",
      "Bạn cần phải trả: 8733750.0 đồng\n",
      "Cảm ơn bạn đã mua hàng\n"
     ]
    }
   ],
   "source": [
    "a = int(input(\"so luong ga ran:\"))\n",
    "b = int(input(\"so luong Hamburger:\"))\n",
    "c = int(input(\"so luong Pesi:\"))\n",
    "\n",
    "tong = a*35000 + b*50000 + c*10000\n",
    "tongcuoicung = tong\n",
    "giam = 0\n",
    "\n",
    "if tong > 4000000:\n",
    "    tongcuoicung = tong*0.85\n",
    "    giam = tong*0.15\n",
    "elif tong > 2000000:\n",
    "    tongcuoicung = tong*0.9\n",
    "    giam = tong*0.1\n",
    "    \n",
    "print(\"Bạn được giảm:\",giam,\"đồng\")\n",
    "print(\"Bạn cần phải trả:\",tongcuoicung,\"đồng\")\n",
    "print(\"Cảm ơn bạn đã mua hàng\")"
   ]
  },
  {
   "cell_type": "markdown",
   "id": "ab10a1ce",
   "metadata": {},
   "source": [
    "### Bài 6\n",
    "\n",
    "Nhập vào chiều cao (cm) và cân nặng (kg), tính số BMI và xét rồi xin kết quả theo dữ liệu sau:\n",
    "\n",
    "- BMI < 16: Gầy cấp độ III\n",
    "- 16 <= BMI < 17:  Gầy cấp độ II\n",
    "- 17<= BMI < 18.5: Gầy cấp độ I\n",
    "- 18.5 <= BMI < 25: Bình thường\n",
    "- 25 <= BMI < 30: Thừa cân\n",
    "- 30 <= BMI < 35 : Béo phì cấp độ I\n",
    "- 35 <= BMI < 40: Béo phì cấp độ II\n",
    "- BMI > 40: Béo phì cấp độ III"
   ]
  },
  {
   "cell_type": "code",
   "execution_count": null,
   "id": "1058f441",
   "metadata": {},
   "outputs": [],
   "source": [
    "h = float(input(\"Nhập chiều cao: \"))\n",
    "w = float(input(\"Nhập cân nặng: \"))\n",
    "\n",
    "bmi = w/((h/100)**2)\n",
    "\n",
    "if bmi < 16:\n",
    "    print(\"Gầy cấp độ III\")\n",
    "elif bmi < 17:\n",
    "    print(\"Gầy cấp độ II\")\n",
    "elif bmi < 18.5:\n",
    "    print(\"Gầy cấp độ I\")\n",
    "elif bmi < 25:\n",
    "    print(\"Bình thường\")\n",
    "elif bmi < 30:\n",
    "    print(\"Thừa cân\")\n",
    "elif bmi < 35:\n",
    "    print(\"Béo phì cấp độ I\")\n",
    "elif bmi < 40:\n",
    "    print(\"Béo phì cấp độ II\")\n",
    "else:\n",
    "    print(\"Béo phì cấp độ III\")"
   ]
  },
  {
   "cell_type": "markdown",
   "id": "f7620342",
   "metadata": {},
   "source": [
    "### Bài 7\n",
    "\n",
    "Nhập ngày, tháng, năm. Hãy tính và in ra màn hình kể từ đầu năm đến ngày vừa nhập là bao nhiêu ngày."
   ]
  },
  {
   "cell_type": "code",
   "execution_count": null,
   "id": "4c57f0a5",
   "metadata": {},
   "outputs": [],
   "source": []
  }
 ],
 "metadata": {
  "kernelspec": {
   "display_name": "Python 3 (ipykernel)",
   "language": "python",
   "name": "python3"
  },
  "language_info": {
   "codemirror_mode": {
    "name": "ipython",
    "version": 3
   },
   "file_extension": ".py",
   "mimetype": "text/x-python",
   "name": "python",
   "nbconvert_exporter": "python",
   "pygments_lexer": "ipython3",
   "version": "3.10.1"
  }
 },
 "nbformat": 4,
 "nbformat_minor": 5
}
