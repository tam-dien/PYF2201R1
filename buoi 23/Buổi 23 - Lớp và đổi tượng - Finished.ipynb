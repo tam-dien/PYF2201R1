{
 "cells": [
  {
   "cell_type": "markdown",
   "id": "1c805421",
   "metadata": {},
   "source": [
    "# Lớp và đối tượng\n",
    "\n",
    "### Lớp (class) là gì?\n",
    "\n",
    "Lớp (Class) là tập hợp tất cả các đối tượng có chung các thuộc tính và hành vi."
   ]
  },
  {
   "cell_type": "markdown",
   "id": "812bf15e",
   "metadata": {},
   "source": [
    "### Khai báo lớp\n",
    "\n",
    "`class <tên lớp>:\n",
    "    <khai báo biến>\n",
    "    <khai báo hàm>`\n",
    "    \n",
    "Ví dụ:\n",
    "\n",
    "`class giangvien:\n",
    "    ten = \"Nguyễn Tâm Điền\"\n",
    "    mon = \"Python căn bản\"\n",
    "    def inten(self):\n",
    "        print(self.ten)        \n",
    "dien = giangvien()\n",
    "print(dien.mon)\n",
    "dien.inten()`\n",
    "\n",
    "##### Lưu ý:\n",
    "\n",
    "- giangvien là 1 lớp\n",
    "- dien là 1 đối tượng có tất cả thuộc tính (có biến ten, mon và hàm inten) của lớp giangvien\n",
    "- inten là 1 hàm trong lớp giangvien\n",
    "- dien.mon là 1 biến trong đối tượng dien\n",
    "- dien.inten() là cách để gọi hàm inten trong đối tượng dien\n",
    "\n",
    "\n",
    "<b> Hãy chạy thử đoạn lệnh ở ví dụ: </b>"
   ]
  },
  {
   "cell_type": "code",
   "execution_count": 5,
   "id": "40598ff8",
   "metadata": {},
   "outputs": [
    {
     "name": "stdout",
     "output_type": "stream",
     "text": [
      "Lâm Đức Long\n",
      "Nguyễn Tâm Điền\n"
     ]
    }
   ],
   "source": [
    "class giangvien:\n",
    "    ten = \"Nguyễn Tâm Điền\"\n",
    "    mon = \"Python căn bản\"\n",
    "    def inten(self):\n",
    "        print(self.ten)\n",
    "        \n",
    "dien = giangvien()\n",
    "long = giangvien()\n",
    "\n",
    "long.ten = \"Lâm Đức Long\"\n",
    "print(long.ten)\n",
    "print(dien.ten)"
   ]
  },
  {
   "cell_type": "markdown",
   "id": "6c4daedf",
   "metadata": {},
   "source": [
    "<b> Hãy tạo 1 class hocvien với 1 biến và 1 def giúp in giá trị biến đó ra màn hình </b>"
   ]
  },
  {
   "cell_type": "code",
   "execution_count": 7,
   "id": "5358318d",
   "metadata": {},
   "outputs": [
    {
     "name": "stdout",
     "output_type": "stream",
     "text": [
      "Phan Thế Đạt\n",
      "Hải Nam\n"
     ]
    }
   ],
   "source": [
    "class hocvien:\n",
    "    ten = 'Phan Thế Đạt'\n",
    "    def inten(self):\n",
    "        print(self.ten)\n",
    "        \n",
    "hv1= hocvien()\n",
    "hv1.inten()\n",
    "hv2 = hocvien()\n",
    "hv2.ten = \"Hải Nam\"\n",
    "hv2.inten()"
   ]
  },
  {
   "cell_type": "markdown",
   "id": "b2481280",
   "metadata": {},
   "source": [
    "### Tham số self\n",
    "\n",
    "Tham số self là tham số được sử dụng khi khai báo các hàm trong lớp\n",
    "\n",
    "Tham số self miêu tả chính lớp ta đang xây dựng, giúp chúng ta sử dụng được những biến và hàm của lớp đó\n",
    "\n",
    "Ví dụ:\n",
    "\n",
    "`class giangvien:\n",
    "    ten = \"Nguyễn Tâm Điền\"\n",
    "    mon = \"Python căn bản\"\n",
    "    def doiten(self,ten):\n",
    "        self.ten = ten\n",
    "    def inten(self):\n",
    "        print(self.ten)        \n",
    "dien = giangvien()\n",
    "dien.doiten(\"NTD\")\n",
    "dien.inten()`\n",
    "\n",
    "Sau khi thực hiện đoạn code trên, giá trị của biến ten trong đối tượng dien đã bị thay đổi thành \"NTD\"\n",
    "\n",
    "<b> Hãy chạy thử đoạn lệnh ở ví dụ: </b>"
   ]
  },
  {
   "cell_type": "code",
   "execution_count": 13,
   "id": "fd2f5d7c",
   "metadata": {},
   "outputs": [
    {
     "name": "stdout",
     "output_type": "stream",
     "text": [
      "Độc thân\n"
     ]
    },
    {
     "ename": "AttributeError",
     "evalue": "'giangvien' object has no attribute 'tinhtrang'",
     "output_type": "error",
     "traceback": [
      "\u001b[1;31m---------------------------------------------------------------------------\u001b[0m",
      "\u001b[1;31mAttributeError\u001b[0m                            Traceback (most recent call last)",
      "\u001b[1;32m~\\AppData\\Local\\Temp/ipykernel_7584/2334292283.py\u001b[0m in \u001b[0;36m<module>\u001b[1;34m\u001b[0m\n\u001b[0;32m     17\u001b[0m \u001b[1;33m\u001b[0m\u001b[0m\n\u001b[0;32m     18\u001b[0m \u001b[0mprint\u001b[0m\u001b[1;33m(\u001b[0m\u001b[0mdien\u001b[0m\u001b[1;33m.\u001b[0m\u001b[0mtinhtrang\u001b[0m\u001b[1;33m)\u001b[0m\u001b[1;33m\u001b[0m\u001b[1;33m\u001b[0m\u001b[0m\n\u001b[1;32m---> 19\u001b[1;33m \u001b[0mprint\u001b[0m\u001b[1;33m(\u001b[0m\u001b[0mphuong\u001b[0m\u001b[1;33m.\u001b[0m\u001b[0mtinhtrang\u001b[0m\u001b[1;33m)\u001b[0m\u001b[1;33m\u001b[0m\u001b[1;33m\u001b[0m\u001b[0m\n\u001b[0m",
      "\u001b[1;31mAttributeError\u001b[0m: 'giangvien' object has no attribute 'tinhtrang'"
     ]
    }
   ],
   "source": [
    "class giangvien:\n",
    "    ten = \"Nguyễn Tâm Điền\"\n",
    "    mon = \"Python căn bản\"\n",
    "    def doiten(self,ten):\n",
    "        self.ten = ten\n",
    "    def inten(self):\n",
    "        print(self.ten)\n",
    "    def themtinhtrang(self,tinhtrang):\n",
    "        self.tinhtrang = tinhtrang\n",
    "        \n",
    "dien = giangvien()\n",
    "dien.doiten(\"NTD\")\n",
    "dien.themtinhtrang(\"Độc thân\")\n",
    "\n",
    "phuong = giangvien()\n",
    "phuong.doiten(\"Mai Phương\")\n",
    "\n",
    "print(dien.tinhtrang)\n",
    "print(phuong.tinhtrang)"
   ]
  },
  {
   "cell_type": "markdown",
   "id": "4dfd8d1d",
   "metadata": {},
   "source": [
    "<b> Hãy thêm 1 def vào class hocvien giúp thay đổi giá trị biến bất kỳ trong class </b>"
   ]
  },
  {
   "cell_type": "code",
   "execution_count": 14,
   "id": "98d911c0",
   "metadata": {},
   "outputs": [
    {
     "name": "stdout",
     "output_type": "stream",
     "text": [
      "Dat Green\n",
      "Nam\n"
     ]
    }
   ],
   "source": [
    "class hocvien:\n",
    "    ten = 'Phan Thế Đạt'\n",
    "    def inten(self):\n",
    "        print(self.ten)\n",
    "    def doiten(self,tenmoi):\n",
    "        self.ten= tenmoi\n",
    "    def them(self,gioitinh):\n",
    "        self.gioitinh=gioitinh\n",
    "        \n",
    "hv1= hocvien()\n",
    "hv1.doiten('Dat Green')\n",
    "hv1.them('Nam')\n",
    "print(hv1.ten)\n",
    "print(hv1.gioitinh)\n"
   ]
  },
  {
   "cell_type": "markdown",
   "id": "b2909dd4",
   "metadata": {},
   "source": [
    "### Hàm \\_\\_init__\n",
    "\n",
    "Hàm \\_\\_init__ là hàm khởi tạo\n",
    "\n",
    "Ví dụ:\n",
    "\n",
    "`class giangvien:\n",
    "    def __init__(self,ten,mon):\n",
    "        self.ten = ten\n",
    "        self.mon = mon\n",
    "    def doiten(self,ten):\n",
    "        self.ten = ten\n",
    "    def inten(self):\n",
    "        print(self.ten)   \n",
    "dien = giangvien(\"Điền\",\"Python căn bản\")\n",
    "thang = giangvien(\"Thắng\",\"Python siêu cấp\")\n",
    "dien.inten()\n",
    "thang.inten()`\n",
    "\n",
    "<b> Hãy chạy thử đoạn lệnh ở ví dụ: </b>"
   ]
  },
  {
   "cell_type": "code",
   "execution_count": 2,
   "id": "f15266fb",
   "metadata": {},
   "outputs": [
    {
     "name": "stdout",
     "output_type": "stream",
     "text": [
      "hello\n",
      "hello\n",
      "hello\n"
     ]
    }
   ],
   "source": [
    "class giangvien:\n",
    "    def __init__(self,ten,mon): ## Hàm init sẽ chạy khi ta khởi tạo một đối tượng\n",
    "        self.ten = ten\n",
    "        self.mon = mon\n",
    "    def doiten(self,ten):\n",
    "        self.ten = ten\n",
    "    def inten(self):\n",
    "        print(self.ten)   \n",
    "\n",
    "dien = giangvien(\"Điền\",\"Python căn bản\")\n",
    "ducanh = giangvien(\"Đức Anh\",\"Python cao cấp\")\n",
    "minh = giangvien(\"Quang Minh\",\"Python siêu cấp\")"
   ]
  },
  {
   "cell_type": "markdown",
   "id": "9064cc0a",
   "metadata": {},
   "source": [
    "<b> Hãy thêm 1 def \\_\\_init__ vào class hocvien để khởi tạo tên và tuổi của học viên </b>"
   ]
  },
  {
   "cell_type": "code",
   "execution_count": 19,
   "id": "3e6a0dae",
   "metadata": {},
   "outputs": [
    {
     "name": "stdout",
     "output_type": "stream",
     "text": [
      "Dat Green\n",
      "Pascal\n",
      "Dat 09\n",
      "Python\n"
     ]
    }
   ],
   "source": [
    "class hocvien:\n",
    "    def __init__(self,ten,lop):\n",
    "        self.ten = ten\n",
    "        self.lop = lop\n",
    "    def inten(self):\n",
    "        print(self.ten)\n",
    "    def doiten(self,tenmoi):\n",
    "        self.ten = tenmoi\n",
    "    def them(self,gioitinh):\n",
    "        self.gioitinh = gioitinh\n",
    "hv1 = hocvien('Dat Green','Pascal')\n",
    "print(hv1.ten)\n",
    "print(hv1.lop)\n",
    "hv2 = hocvien('Dat 09','Python')\n",
    "print(hv2.ten)\n",
    "print(hv2.lop)"
   ]
  },
  {
   "cell_type": "markdown",
   "id": "d137f2f5",
   "metadata": {},
   "source": [
    "### Bài tập"
   ]
  },
  {
   "cell_type": "markdown",
   "id": "d243726c",
   "metadata": {},
   "source": [
    "Hãy xây dựng 1 class hình tròn có các thuộc tính sau:\n",
    "\n",
    "- biến x và y chứa tọa độ tâm đường tròn\n",
    "- biến r chứa bán kính đường chọn\n",
    "- hàm draw: để vẽ đường tròn"
   ]
  },
  {
   "cell_type": "code",
   "execution_count": null,
   "id": "4121525f",
   "metadata": {},
   "outputs": [],
   "source": [
    "import turtle\n",
    "t = turtle.Turtle()\n",
    "\n",
    "class hinhtron:\n",
    "    def __init__():\n",
    "        pass\n",
    "    def draw():\n",
    "        pass"
   ]
  },
  {
   "cell_type": "code",
   "execution_count": 1,
   "id": "a0cec9c2",
   "metadata": {},
   "outputs": [],
   "source": [
    "import turtle\n",
    "t = turtle.Turtle()\n",
    "\n",
    "class hinhtron:\n",
    "    def __init__(self,x,y,r,color):\n",
    "        self.x = x\n",
    "        self.y = y\n",
    "        self.r = r\n",
    "        self.color = color\n",
    "    def draw(self):\n",
    "        t.penup()\n",
    "        t.goto(self.x,self.y-self.r)\n",
    "        t.pendown()\n",
    "        t.color(self.color)\n",
    "        t.circle(self.r)\n",
    "        \n",
    "ht1 = hinhtron(0,0,50,\"red\")\n",
    "ht2 = hinhtron(10,20,100,\"yellow\")\n",
    "ht1.draw()\n",
    "ht2.draw()"
   ]
  },
  {
   "cell_type": "markdown",
   "id": "9017050f",
   "metadata": {},
   "source": [
    "Tạo một lớp phân số có các thuộc tính:\n",
    "\n",
    "- biến tử số và mẫu số\n",
    "- hàm cong: để cộng với một đối tượng khác có lớp phân số rồi trả về dối tượng có phân số mới\n",
    "- hàm tru: để trừ với một đối tượng khác có lớp phân số rồi trả về dối tượng có phân số mới\n",
    "- hàm nhan: để nhân với một đối tượng khác có lớp phân số rồi trả về dối tượng có phân số mới\n",
    "- hàm chia: để chia với một đối tượng khác có lớp phân số rồi trả về dối tượng có phân số mới\n",
    "- hàm toigian: để tối giản phân số rồi trả về dối tượng có phân số mới"
   ]
  },
  {
   "cell_type": "code",
   "execution_count": 22,
   "id": "2ae72d93",
   "metadata": {},
   "outputs": [
    {
     "name": "stdout",
     "output_type": "stream",
     "text": [
      "2/5\n"
     ]
    }
   ],
   "source": [
    "def UCLN(a,b):\n",
    "    while a != b:\n",
    "        if a > b:\n",
    "            a -= b\n",
    "        else:\n",
    "            b -= a\n",
    "    return a\n",
    "\n",
    "class phanso:\n",
    "    def __init__(self,tuso,mauso):\n",
    "        self.tuso = tuso\n",
    "        self.mauso = mauso\n",
    "    def inra(self):\n",
    "        print(self.tuso,\"/\",self.mauso,sep = \"\")\n",
    "    def cong(self,a):\n",
    "        tusomoi = self.tuso*a.mauso + self.mauso*a.tuso\n",
    "        mausomoi = self.mauso*a.mauso\n",
    "        return phanso(tusomoi,mausomoi)\n",
    "    def tru(self,a):\n",
    "        tusomoi = self.tuso*a.mauso - self.mauso*a.tuso\n",
    "        mausomoi = self.mauso*a.mauso\n",
    "        return phanso(tusomoi,mausomoi)\n",
    "    def nhan(self,a):\n",
    "        tusomoi = self.tuso*a.tuso\n",
    "        mausomoi = self.mauso*a.mauso\n",
    "        return phanso(tusomoi,mausomoi)\n",
    "    def chia(self,a):\n",
    "        tusomoi = self.tuso*a.mauso\n",
    "        mausomoi = self.mauso*a.tuso\n",
    "        return phanso(tusomoi,mausomoi)\n",
    "    def toigian(self):\n",
    "        a = UCLN(self.tuso,self.mauso)\n",
    "        tusomoi = self.tuso//a\n",
    "        mausomoi = self.mauso//a\n",
    "        return phanso(tusomoi,mausomoi)\n",
    "        \n",
    "ps1 = phanso(20,50)\n",
    "ps2 = phanso(3,7)\n",
    "ps3 = ps1.cong(ps2)\n",
    "ps4 = ps1.toigian()\n",
    "ps4.inra()"
   ]
  },
  {
   "cell_type": "markdown",
   "id": "39a8cb80",
   "metadata": {},
   "source": [
    "Viết class NhanVien gồm các thuộc tính:\n",
    "\n",
    "<b> Các biến </b>\n",
    "\n",
    "- Tên\n",
    "- Tuổi\n",
    "- Địa chỉ\n",
    "- Tiền lương\n",
    "- Tổng số giờ làm\n",
    "\n",
    "<b> Các hàm </b>\n",
    "\n",
    "- nhap : Nhập các thông tin cho nhân viên từ bàn phím\n",
    "- in : In ra tất cả các thông tin của nhân viên\n",
    "- thuong: Tính toán và trả về số tiền thưởng của nhân viên theo công thức sau:\n",
    "\n",
    "    Nếu tổng số giờ làm của nhân viên >=200 thì thưởng = lương * 20%\n",
    "    \n",
    "    Nếu tổng số giờ làm của nhân viên <200 và >=100 thì thưởng = lương * 10%\n",
    "    \n",
    "    Nếu tổng số giờ làm của nhân viên <100 thì thưởng = 0"
   ]
  },
  {
   "cell_type": "code",
   "execution_count": 14,
   "id": "26d12a44",
   "metadata": {
    "scrolled": true
   },
   "outputs": [
    {
     "name": "stdout",
     "output_type": "stream",
     "text": [
      "Nhập vào tên của nhân viên:Hoàng\n",
      "Nhập vào tuổi của nhân viên:35\n",
      "Nhập vào địa chỉ của nhân viên:123 ABC\n",
      "Nhập vào tiền lương của nhân viên:10000000\n",
      "Nhập vào số giờ làm của nhân viên:200\n",
      "Tên của nhân viên là: Hoàng\n",
      "Tuổi của nhân viên là: 35\n",
      "Địa chỉ của nhân viên là: 123 ABC\n",
      "Tiền lương của nhân viên là: 10000000\n",
      "Số giờ làm của nhân viên là: 200\n",
      "Thưởng của nhân viên Hoàng là: 2000000.0\n"
     ]
    }
   ],
   "source": [
    "class nhanvien:\n",
    "#     def nhaplieu(self):\n",
    "#         self.ten = input(\"Nhập tên nhân viên: \")\n",
    "#         self.tuoi = input(\"Nhập tuổi nhân viên: \")\n",
    "#         self.diachi = input(\"Nhập địa chỉ nhân viên: \")\n",
    "#         self.luong = input(\"Nhập tiền lương nhân viên: \")\n",
    "#         self.sogiolam= input(\"Nhập số giờ làm nhân viên: \") \n",
    "#     def inra(self):\n",
    "#         print(\"Tên nhân viên là:\",self.ten)\n",
    "#         print(\"Tuổi nhân viên là:\",self.tuoi)\n",
    "#         print(\"Địa chỉ nhân viên là:\",self.diachi)\n",
    "#         print(\"Lương nhân viên là:\",self.luong)\n",
    "#         print(\"Số giờ làm nhân viên là:\",self.sogiolam)\n",
    "    def nhaplieu(self):\n",
    "        self.dulieu = {\"Tên\":\"\",\"Tuổi\":\"\",\"Địa chỉ\":\"\",\"Tiền lương\":0,\"Số giờ làm\":0}\n",
    "        for i in self.dulieu:\n",
    "            self.dulieu[i] = input(\"Nhập vào \" + i.lower() + \" của nhân viên:\")\n",
    "        self.dulieu[\"Tiền lương\"] = int(self.dulieu[\"Tiền lương\"])\n",
    "        self.dulieu[\"Số giờ làm\"] = int(self.dulieu[\"Số giờ làm\"])\n",
    "    def inra(self):\n",
    "        for i in self.dulieu:\n",
    "            print(i,\"của nhân viên là:\",self.dulieu[i])\n",
    "    def thuong(self):\n",
    "        sgl = self.dulieu[\"Số giờ làm\"]\n",
    "        lg = self.dulieu[\"Tiền lương\"]\n",
    "        if sgl >= 200:\n",
    "            return lg*0.2\n",
    "        if sgl >= 100:\n",
    "            return lg*0.1\n",
    "        return 0\n",
    "\n",
    "nv1 = nhanvien()\n",
    "nv1.nhaplieu()\n",
    "nv1.inra()\n",
    "print(\"Thưởng của nhân viên\",nv1.dulieu[\"Tên\"],\"là:\",nv1.thuong())"
   ]
  },
  {
   "cell_type": "code",
   "execution_count": null,
   "id": "60e5672b",
   "metadata": {},
   "outputs": [],
   "source": []
  }
 ],
 "metadata": {
  "kernelspec": {
   "display_name": "Python 3 (ipykernel)",
   "language": "python",
   "name": "python3"
  },
  "language_info": {
   "codemirror_mode": {
    "name": "ipython",
    "version": 3
   },
   "file_extension": ".py",
   "mimetype": "text/x-python",
   "name": "python",
   "nbconvert_exporter": "python",
   "pygments_lexer": "ipython3",
   "version": "3.10.1"
  }
 },
 "nbformat": 4,
 "nbformat_minor": 5
}
