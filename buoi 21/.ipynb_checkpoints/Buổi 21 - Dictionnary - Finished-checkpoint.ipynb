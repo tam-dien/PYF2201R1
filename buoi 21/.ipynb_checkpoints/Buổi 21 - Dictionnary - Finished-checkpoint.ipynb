{
 "cells": [
  {
   "cell_type": "markdown",
   "id": "a20f121d",
   "metadata": {},
   "source": [
    "# Dictionnary\n",
    "\n",
    "Dictionnary là một dạng list đặc biệt, nó khác list ở chỗ không lưu trữ các giá trị theo chỉ số vị trí, thay vào đó Dictionary sẽ lưu trữ các giá trị theo key\n",
    "\n",
    "##### Tài liệu tham khảo: https://www.w3schools.com/python/python_dictionaries.asp\n",
    "\n",
    "### Khai báo một dictionary\n",
    "\n",
    "Cú pháp:\n",
    "\n",
    "`<tên dictionary> = {}`\n",
    "\n",
    "### Dictionary được khai báo bằng hai dấu hoặc nhọn\n",
    "\n",
    "Đây là một dictionary rỗng\n",
    "\n",
    "<b>Ví dụ 1:</b>\n",
    "\n",
    "`a = {}`\n",
    "\n",
    "a là một dictionary rỗng\n",
    "\n",
    "<b>Ví dụ 2:</b>\n",
    "\n",
    "`a = {\"tên\": \"Nguyễn Tâm Điền\", \"tuổi\": 13, \"giới tính\": \"Nam\"}`\n",
    "\n",
    "b là một dictionary có 3 key, mõi key đều có một giá trị riêng biệt\n",
    "\n",
    "Key có thể mang kiểu dữ liệu là chuỗi hoặc số\n",
    "\n",
    "##### Mỗi một key đều phải có giá trị của riêng nó, không thể khai báo key không có giá trị\n",
    "\n",
    "<b>Hãy khai báo một dictionary có 3 phần tử</b>"
   ]
  },
  {
   "cell_type": "code",
   "execution_count": null,
   "id": "d835f461",
   "metadata": {},
   "outputs": [],
   "source": [
    "D = {\"tên\": \"Trang\", 0: 10, \"tên2\": \"Trang\", \"tên\": \"Hà\"}\n",
    "print(D)"
   ]
  },
  {
   "cell_type": "markdown",
   "id": "be1e321c",
   "metadata": {},
   "source": [
    "### Thêm key vào dictionary\n",
    "\n",
    "Cú pháp:\n",
    "\n",
    "`<tên dictionary>[<key>] = <giá trị>`\n",
    "\n",
    "<b>Ví dụ 1:</b>\n",
    "\n",
    "`a = {}\n",
    "a[\"tên\"] = \"NTD\"`\n",
    "\n",
    "a là một dictionary có một phần tử, phần tử đó có key là \"tên\" và giá trị của key đó là \"NTD\"\n",
    "\n",
    "##### Lưu ý, nếu trong trường hợp đã tồn tại key trong dictionary, dùng lệnh trên sẽ thay đổi giá trị key đó (không phải thêm key khác vào)\n",
    "\n",
    "<b>Ví dụ 2:</b>\n",
    "\n",
    "`a = {}\n",
    "a[\"tên\"] = \"NTD\"\n",
    "a[\"tên\"] = \"Nguyễn Tâm Điền\"`\n",
    "\n",
    "a vẫn là một dictionary có một phần tử, phần tử đó có key là \"tên\" và giá trị của key đó là \"Nguyễn Tâm Điền\"\n",
    "\n",
    "<b>Hãy khai báo một dictionary không có phần tử nào, sau đó thêm một phần tử vào dictionary đó</b>"
   ]
  },
  {
   "cell_type": "code",
   "execution_count": null,
   "id": "7573ebef",
   "metadata": {},
   "outputs": [],
   "source": [
    "D = {0: \"hello\", \"0\": \"hi\"}\n",
    "D[\"tên\"] = \"Trang\"\n",
    "D[\"tên\"] = \"Hà\"\n",
    "print(D)"
   ]
  },
  {
   "cell_type": "markdown",
   "id": "65c98825",
   "metadata": {},
   "source": [
    "### Truy xuất phần tử trong dictionary\n",
    "\n",
    "Cú pháp:\n",
    "\n",
    "`<tên dictionary>[<key>]`\n",
    "\n",
    "<b>Ví dụ:</b>\n",
    "\n",
    "`a = {\"tên\": \"Nguyễn Tâm Điền\", \"tuổi\": 13, \"giới tính\": \"Nam\"}\n",
    "print(a[\"tên\"])`\n",
    "\n",
    "Màn hình sẽ in: Nguyễn Tâm Điền\n",
    "\n",
    "<b>Hãy khai báo một dictionary rồi in ra màn hình một phần tử bất kỳ trong dictionary đó</b>"
   ]
  },
  {
   "cell_type": "code",
   "execution_count": 21,
   "id": "f6159385",
   "metadata": {},
   "outputs": [
    {
     "name": "stdout",
     "output_type": "stream",
     "text": [
      "Trang\n"
     ]
    }
   ],
   "source": [
    "D = {\"tên\": \"Trang\", \"tuổi\": 18}\n",
    "print(D[\"tên\"])"
   ]
  },
  {
   "cell_type": "code",
   "execution_count": 22,
   "id": "4061e051",
   "metadata": {},
   "outputs": [
    {
     "name": "stdout",
     "output_type": "stream",
     "text": [
      "3\n"
     ]
    }
   ],
   "source": [
    "D = {1:\"hello\",\"1\":'hi'}\n",
    "D[2] = \"xin chào\"\n",
    "D[2] = \"chào\"\n",
    "print(len(D))"
   ]
  },
  {
   "cell_type": "code",
   "execution_count": 23,
   "id": "27fa9986",
   "metadata": {},
   "outputs": [
    {
     "name": "stdout",
     "output_type": "stream",
     "text": [
      "{1: 'hello', '1': 'hi', 2: 'xin chào'}\n"
     ]
    }
   ],
   "source": [
    "D = {1:\"hello\",\"1\":'hi'}\n",
    "D2 = D\n",
    "D2[2] = \"xin chào\"\n",
    "print(D)"
   ]
  },
  {
   "cell_type": "code",
   "execution_count": 24,
   "id": "7e283d78",
   "metadata": {},
   "outputs": [
    {
     "name": "stdout",
     "output_type": "stream",
     "text": [
      "{1: 'hello', '1': 'hi'}\n",
      "{1: 'hello', '1': 'hi', 2: 'xin chào'}\n"
     ]
    }
   ],
   "source": [
    "D = {1:\"hello\",\"1\":'hi'}\n",
    "D2 = D.copy()\n",
    "D2[2] = \"xin chào\"\n",
    "print(D)\n",
    "print(D2)"
   ]
  },
  {
   "cell_type": "markdown",
   "id": "afa92f87",
   "metadata": {},
   "source": [
    "### Sao chép dictionary\n",
    "\n",
    "##### Việc sao chép dictionary được thực hiện hệt như sao chép list, chúng ta cần phải sử dụng lệnh copy()"
   ]
  },
  {
   "cell_type": "markdown",
   "id": "ef7e800d",
   "metadata": {},
   "source": [
    "### Duyệt dictionary bằng lệnh for\n",
    "\n",
    "Cú pháp:\n",
    "\n",
    "`for <tên biến> in <tên dictionary>:`\n",
    "\n",
    "Biến sẽ có giá trị là từng key trong dictionary\n",
    "\n",
    "<b>Ví dụ:</b>\n",
    "\n",
    "`a = {\"tên\": \"Nguyễn Tâm Điền\", \"tuổi\": 13, \"giới tính\": \"Nam\"}\n",
    "for i in a:\n",
    "    print(i)`\n",
    "    \n",
    "Màn hình sẽ in ra:\n",
    "\n",
    "tên\n",
    "\n",
    "tuổi\n",
    "\n",
    "giới tính\n",
    "\n",
    "<b>Hãy khai báo một dictionary rồi in ra màn hình toàn bộ giá trị trong dictionary đó</b>"
   ]
  },
  {
   "cell_type": "code",
   "execution_count": 25,
   "id": "3bdd1508",
   "metadata": {},
   "outputs": [
    {
     "name": "stdout",
     "output_type": "stream",
     "text": [
      "xin chào\n",
      "các bạn\n",
      "hello\n",
      "0\n",
      "1\n",
      "2\n"
     ]
    }
   ],
   "source": [
    "L = [\"xin chào\",\"các bạn\",\"hello\"]\n",
    "D = {0:\"xin chào\",1:\"các bạn\",2:\"hello\"}\n",
    "\n",
    "for i in L:\n",
    "    print(i)\n",
    "    \n",
    "for i in D:\n",
    "    print(i)"
   ]
  },
  {
   "cell_type": "markdown",
   "id": "1982f4b1",
   "metadata": {},
   "source": [
    "### Bài tập"
   ]
  },
  {
   "cell_type": "markdown",
   "id": "3060a950",
   "metadata": {},
   "source": [
    "Viết chương trình đếm số lần xuất hiện của một từ trong một văn bản nhất định"
   ]
  },
  {
   "cell_type": "code",
   "execution_count": 20,
   "id": "59c361d6",
   "metadata": {
    "scrolled": false
   },
   "outputs": [
    {
     "name": "stdout",
     "output_type": "stream",
     "text": [
      "{'chị': 16, 'dậu': 13, 'nhà': 13, 'cho': 11, 'không': 13, 'anh': 11, 'ông': 13}\n",
      "{'chị': 16, 'dậu': 13, 'nhà': 13, 'cho': 11, 'không': 13, 'anh': 11, 'ông': 13}\n"
     ]
    }
   ],
   "source": [
    "vanban = \"Cháo chín, chị Dậu bắc mang ra giữa nhà, ngả mâm bát múc ra la liệt. Rồi chị lấy quạt quạt cho chóng nguội. Tiếng trống và tiếng tù và[1](!) đã thủng thẳng đua nhau từ phía đầu làng đến đình. Tiếng chó sủa vang các xóm. Bà lão láng giềng lại lật đật chạy sang: - Bác trai đã khá rồi chứ? - Cảm ơn cụ, nhà cháu đã tỉnh táo như thường. Nhưng xem ý hãy còn lề bề lệt bệt[2] chừng như vẫn mỏi mệt lắm. - Này, bảo bác ấy có trốn đi đâu thì trốn. Chứ cứ nằm đấy, chốc nữa họ vào thúc sưu[3], không có, họ lại đánh trói thì khổ. Người ốm rề rề như thế, nếu lại phải một trận đòn, nuôi mấy tháng cho hoàn hồn.- Vâng, cháu cũng đã nghĩ như cụ. Nhưng để cháo nguội, cháu cho nhà cháu ăn lấy vài húp cái đã. Nhịn suông từ sáng hôm qua tới giờ còn gì. - Thế thì phải giục anh ấy ăn mau đi, kẻo nửa người ta sắp sửa kéo vào rồi đấy! Rồi bà lão lật đật trở về với vẻ mặt băn khoăn. Cháo đã hơi nguội. Thằng Dần vục đầu vừa thổi vừa húp soàn soạt. Chị Dậu rón rén bưng một bát lớn đến chỗ chồng nằm: - Thầy em hãy cố ngồi dậy húp ít cháo cho đỡ xót ruột. Rồi chị đón lấy cái Tỉu và ngồi xuống đó như có ý chờ xem chồng chị ăn có ngon miệng hay không. Anh Dậu uốn vai ngáp dài một tiếng. Uể oải, chống tay xuống phản, anh vừa rên vừa ngỏng đầu lên. Run rẩy cất bát cháo, anh mới kề vào đến miệng, cai lệ[4] và người nhà lí trưởng đã sầm sập tiến vào với những roi song, tay thước[5] và dây thừng. Gõ đầu roi xuống đất, cai lệ thét bằng giọng khàn khàn của người hút nhiều xái(6) cũ: - Thằng kia! Ông tưởng mày chết đêm qua, còn sống đấy à? Nộp tiền sưu! Mau! Hoảng quá, anh Dậu vội để bát cháo xuống phản và lăn đùng ra đó, không nói được câu gì. Người nhà lí trưởng cười một cách mỉa mai: - Anh ta lại sắp phải gió[6] như đêm qua đấy! Rồi hắn chỉ luôn vào mặt chị Dậu: - Chị khất tiền sưu đến chiều mai phải không? Đấy! Chị hãy nói với ông cai, để ông ấy ra đình kêu với quan cho! Chứ ông lí tôi thì không có quyền dám cho chị khất một giờ nào nữa! Chị Dậu run run: - Nhà cháu đã túng lại phải đóng cả suất sưu của chú nó nữa, nên mới lôi thôi như thế. Chứ cháu có dám bỏ bễ[7] tiền sưu của nhà nước đâu? Hai ông làm phúc nói với ông lí cho cháu khất...Cai lệ không để cho chị được nói hết câu, trợn ngược hai mắt, hắn quát: - Mày định nói cho cha mày nghe đấy à? Sưu của nhà nước mà dám mở mồm xin khất! Chị Dậu vẫn thiết tha: - Khốn nạn! Nhà cháu đã không có, dẫu ông chửi mắng cũng đến thế thôi. Xin ông trông lại! Cai lệ vẫn giọng hầm hè: - Nếu không có tiền nộp sưu cho ông bây giờ, thì ông sẽ dỡ cả nhà mày đi, chửi mắng thôi à! Rồi hắn quay ra bảo anh người nhà lí trưởng: - Không hơi đâu mà nói với nó, trói cổ thằng chồng nó lại, điệu ra đình kia! Người nhà lí trưởng hình như không dám hành hạ một người ốm nặng, sợ hoặc xảy ra sự gì, hắn cứ lóng ngóng ngơ ngác, muốn nói mà không dám nói. Đùng đùng, cai lệ giật phắt cái thừng trong tay anh này và chạy sầm sập đến chỗ anh Dậu. Chị Dậu xám mặt, vội vàng đặt con xuống đất, chạy đến đỡ lấy tay hắn: - Cháu van ông, nhà cháu vừa mới tỉnh được một lúc, ông tha cho! -Tha này! Tha này! Vừa nói hắn vừa bịch luôn vào ngực chị Dậu mấy bịch rồi lại sấn đến để trói anh Dậu. Hình như tức quá không thể chịu được, chị Dậu liều mạng cự lại: - Chồng tôi đau ốm, ông không được phép hành hạ! Cai lệ tát vào mặt chị một cái đánh bốp, rồi hắn cứ nhảy vào cạnh anh Dậu.\"\n",
    "\n",
    "vanban = vanban.replace(\",\",\"\")\n",
    "vanban = vanban.replace(\"!\",\"\")\n",
    "vanban = vanban.replace(\":\",\"\")\n",
    "vanban = vanban.replace(\".\",\"\")\n",
    "vanban = vanban.replace(\"()\",\"\")\n",
    "vanban = vanban.replace(\"[1]\",\"\")\n",
    "vanban = vanban.replace(\"[2]\",\"\")\n",
    "vanban = vanban.replace(\"[3]\",\"\")\n",
    "vanban = vanban.replace(\"[4]\",\"\")\n",
    "vanban = vanban.replace(\"[5]\",\"\")\n",
    "vanban = vanban.replace(\"[6]\",\"\")\n",
    "vanban = vanban.replace(\"[7]\",\"\")\n",
    "vanban = vanban.replace(\"(6)\",\"\")\n",
    "vanban = vanban.replace(\"-\",\"\")\n",
    "vanban = vanban.replace(\"?\",\"\")\n",
    "\n",
    "L_vanban = vanban.split()\n",
    "\n",
    "# print(L_vanban)\n",
    "\n",
    "D = {}\n",
    "\n",
    "for i in L_vanban:\n",
    "    i = i.lower()\n",
    "    if i not in D:\n",
    "        D[i] = 0\n",
    "    D[i] = D[i] + 1\n",
    "\n",
    "H = {}\n",
    "for i in D:\n",
    "    if D[i] > 10:\n",
    "        H[i] = D[i]\n",
    "        \n",
    "D={}\n",
    "\n",
    "print(H)\n",
    "\n",
    "# print(len(L_vanban))"
   ]
  },
  {
   "cell_type": "markdown",
   "id": "57c6f1e7",
   "metadata": {},
   "source": [
    "Viết chương trình cho phép người dùng quản lý sản phẩm, gồm các chức năng sau: \n",
    "\n",
    "- Hiển thị danh sách sản phẩm\n",
    "- Thêm sản phẩm mới vào danh sách\n",
    "- Sửa tên của sản phẩm trong danh sách\n",
    "- Xoá một sản phẩm khỏi danh sách"
   ]
  },
  {
   "cell_type": "code",
   "execution_count": 2,
   "id": "8541b8c3",
   "metadata": {},
   "outputs": [],
   "source": [
    "D_ds = {'1':\"Phở bò\",\"2\":\"Phở gà\"}"
   ]
  },
  {
   "cell_type": "code",
   "execution_count": null,
   "id": "e1994979",
   "metadata": {},
   "outputs": [
    {
     "name": "stdout",
     "output_type": "stream",
     "text": [
      "--------------------------\n",
      "\n",
      "1: Phở bò\n",
      "2: Phở gà\n",
      "\n",
      "--------------------------\n"
     ]
    }
   ],
   "source": [
    "def hienthi():\n",
    "    print(\"--------------------------\")\n",
    "    print()\n",
    "    if len(D_ds) == 0: ## if D_ds = {}\n",
    "        print(\"Chưa có sản phẩm trong hệ thống\")\n",
    "    else:\n",
    "        for key in D_ds:\n",
    "            print(key,\": \",D_ds[key],sep = \"\")\n",
    "    print()\n",
    "    print(\"--------------------------\")\n",
    "    \n",
    "def themsanpham():\n",
    "    print(\"-----------Thêm sản phẩm-----------\")\n",
    "    print()\n",
    "    id = input(\"Mời nhập ID sản phẩm (Nhập 0 nếu muốn thoát chức năng này):\")\n",
    "    if id == \"0\":\n",
    "        return\n",
    "    while id in D_ds:\n",
    "        print(\"ID đã có trong hệ thống\\nMời nhập lại\")\n",
    "        id = input(\"Mời nhập ID sản phẩm (Nhập 0 nếu muốn thoát chức năng này):\")\n",
    "        if id == \"0\":\n",
    "            return\n",
    "    name = input(\"Mời nhập tên sản phẩm:\")\n",
    "    D_ds[id] = name\n",
    "                  \n",
    "hienthi()\n",
    "themsanpham()"
   ]
  }
 ],
 "metadata": {
  "kernelspec": {
   "display_name": "Python 3 (ipykernel)",
   "language": "python",
   "name": "python3"
  },
  "language_info": {
   "codemirror_mode": {
    "name": "ipython",
    "version": 3
   },
   "file_extension": ".py",
   "mimetype": "text/x-python",
   "name": "python",
   "nbconvert_exporter": "python",
   "pygments_lexer": "ipython3",
   "version": "3.10.1"
  }
 },
 "nbformat": 4,
 "nbformat_minor": 5
}
